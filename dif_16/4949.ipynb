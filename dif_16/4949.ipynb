{
 "cells": [
  {
   "cell_type": "markdown",
   "metadata": {},
   "source": [
    "#### 입력\n",
    "---\n",
    "\n",
    "각 문자열은 마지막 글자를 제외하고 영문 알파벳, 공백, 소괄호(\"( )\"), 대괄호(\"[ ]\")로 이루어져 있으며, 온점(\".\")으로 끝나고, 길이는 100글자보다 작거나 같다.\n",
    "\n",
    "입력의 종료조건으로 맨 마지막에 온점 하나(\".\")가 들어온다.\n",
    "\n",
    "#### 출력\n",
    "---\n",
    "\n",
    "각 줄마다 해당 문자열이 균형을 이루고 있으면 \"yes\"를, 아니면 \"no\"를 출력한다."
   ]
  },
  {
   "cell_type": "code",
   "execution_count": null,
   "metadata": {},
   "outputs": [],
   "source": []
  }
 ],
 "metadata": {
  "language_info": {
   "name": "python"
  }
 },
 "nbformat": 4,
 "nbformat_minor": 2
}
