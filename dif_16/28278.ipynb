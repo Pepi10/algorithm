{
 "cells": [
  {
   "cell_type": "markdown",
   "metadata": {},
   "source": [
    "### 문제\n",
    "---\n",
    "\n",
    "* 정수를 저장하는 스택을 구현한 다음, 입력으로 주어지는 명령을 처리하는 프로그램을 작성하시오.\n",
    "\n",
    "  * 명령은 총 다섯 가지이다.\n",
    "\n",
    "    * 1 X: 정수 X를 스택에 넣는다. (1 ≤ X ≤ 100,000)\n",
    "    * 2: 스택에 정수가 있다면 맨 위의 정수를 빼고 출력한다. 없다면 -1을 대신 출력한다.\n",
    "    * 3: 스택에 들어있는 정수의 개수를 출력한다.\n",
    "    * 4: 스택이 비어있으면 1, 아니면 0을 출력한다.\n",
    "    * 5: 스택에 정수가 있다면 맨 위의 정수를 출력한다. 없다면 -1을 대신 출력한다."
   ]
  },
  {
   "cell_type": "raw",
   "metadata": {
    "vscode": {
     "languageId": "raw"
    }
   },
   "source": [
    "9       \n",
    "4   >1     \n",
    "1 3     \n",
    "1 5     \n",
    "3   >2     \n",
    "2   >5     \n",
    "5   >3     \n",
    "2   >3\n",
    "2   >-1\n",
    "5   >-1"
   ]
  },
  {
   "cell_type": "code",
   "execution_count": 2,
   "metadata": {},
   "outputs": [],
   "source": [
    "num = list(map(int, input().rstrip().split()))"
   ]
  },
  {
   "cell_type": "code",
   "execution_count": 42,
   "metadata": {},
   "outputs": [
    {
     "data": {
      "text/plain": [
       "(7, [3, 5])"
      ]
     },
     "execution_count": 42,
     "metadata": {},
     "output_type": "execute_result"
    }
   ],
   "source": [
    "stack = [3, 5, 7]\n",
    "\n",
    "a = stack.pop()\n",
    "a, stack"
   ]
  },
  {
   "cell_type": "code",
   "execution_count": 43,
   "metadata": {},
   "outputs": [
    {
     "data": {
      "text/plain": [
       "(5, [3])"
      ]
     },
     "execution_count": 43,
     "metadata": {},
     "output_type": "execute_result"
    }
   ],
   "source": [
    "a = stack.pop()\n",
    "a, stack"
   ]
  },
  {
   "cell_type": "code",
   "execution_count": 44,
   "metadata": {},
   "outputs": [
    {
     "data": {
      "text/plain": [
       "(3, [])"
      ]
     },
     "execution_count": 44,
     "metadata": {},
     "output_type": "execute_result"
    }
   ],
   "source": [
    "a = stack.pop()\n",
    "a, stack"
   ]
  },
  {
   "cell_type": "code",
   "execution_count": 46,
   "metadata": {},
   "outputs": [
    {
     "name": "stdout",
     "output_type": "stream",
     "text": [
      "1\n",
      "2\n",
      "5\n",
      "3\n",
      "3\n",
      "-1\n",
      "-1\n"
     ]
    }
   ],
   "source": [
    "roof = int(input().rstrip())\n",
    "stack = list()\n",
    "\n",
    "for _ in range(roof):\n",
    "    condition = list(map(int, input().rstrip().split()))\n",
    "\n",
    "    if condition[0] == 1:\n",
    "        stack.append(condition[1])\n",
    "    elif condition[0] == 2:\n",
    "        if stack:\n",
    "            _max = stack.pop()\n",
    "            print(_max)\n",
    "        else:\n",
    "            print(-1)\n",
    "    elif condition[0] == 3:\n",
    "        print(len(stack))\n",
    "    elif condition[0] == 4:\n",
    "        if stack:\n",
    "            print(0)\n",
    "        else:\n",
    "            print(1)\n",
    "    elif condition[0] == 5:\n",
    "        if stack:\n",
    "            print(stack[-1])\n",
    "        else:\n",
    "            print(-1)"
   ]
  },
  {
   "cell_type": "code",
   "execution_count": null,
   "metadata": {},
   "outputs": [],
   "source": [
    "import sys\n",
    "input = sys.stdin.readline \n",
    "\n",
    "roof = int(input().rstrip())\n",
    "stack = list()\n",
    "\n",
    "for _ in range(roof):\n",
    "    condition = list(map(int, input().rstrip().split()))\n",
    "\n",
    "    if condition[0] == 1:\n",
    "        stack.append(condition[1])\n",
    "    elif condition[0] == 2:\n",
    "        if stack:\n",
    "            _max = stack.pop()\n",
    "            print(_max)\n",
    "        else:\n",
    "            print(-1)\n",
    "    elif condition[0] == 3:\n",
    "        print(len(stack))\n",
    "    elif condition[0] == 4:\n",
    "        if stack:\n",
    "            print(0)\n",
    "        else:\n",
    "            print(1)\n",
    "    elif condition[0] == 5:\n",
    "        if stack:\n",
    "            print(stack[-1])\n",
    "        else:\n",
    "            print(-1)"
   ]
  }
 ],
 "metadata": {
  "kernelspec": {
   "display_name": "pepi10",
   "language": "python",
   "name": "python3"
  },
  "language_info": {
   "codemirror_mode": {
    "name": "ipython",
    "version": 3
   },
   "file_extension": ".py",
   "mimetype": "text/x-python",
   "name": "python",
   "nbconvert_exporter": "python",
   "pygments_lexer": "ipython3",
   "version": "3.7.12"
  }
 },
 "nbformat": 4,
 "nbformat_minor": 2
}
