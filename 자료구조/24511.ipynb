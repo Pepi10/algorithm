{
 "cells": [
  {
   "cell_type": "raw",
   "metadata": {
    "vscode": {
     "languageId": "raw"
    }
   },
   "source": [
    "4\n",
    "0 1 1 0   0-> 큐 1-> 스택\n",
    "1 2 3 4\n",
    "3\n",
    "2 4 7"
   ]
  },
  {
   "cell_type": "raw",
   "metadata": {
    "vscode": {
     "languageId": "raw"
    }
   },
   "source": [
    "2\n",
    "1 2 3 4\n",
    "\n",
    "<1>\n",
    "1 2 3 4 2\n",
    "1\n",
    "2 3 4 2\n",
    "<2>\n",
    "2 3 4 2 1\n",
    "1\n",
    "2 3 4 2\n",
    "<3>\n",
    "2 3 4 2 1\n",
    "1\n",
    "2 3 4 2\n",
    "<4>\n",
    "2 3 4 2 2\n",
    "1\n",
    "3 4 2 2"
   ]
  }
 ],
 "metadata": {
  "language_info": {
   "name": "python"
  }
 },
 "nbformat": 4,
 "nbformat_minor": 2
}
