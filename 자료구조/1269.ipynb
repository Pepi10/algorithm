{
 "cells": [
  {
   "cell_type": "markdown",
   "metadata": {},
   "source": [
    "### 문제\n",
    "---\n",
    "자연수를 원소로 갖는 공집합이 아닌 두 집합 A와 B가 있다. 이때, 두 집합의 대칭 차집합의 원소의 개수를 출력하는 프로그램을 작성하시오. 두 집합 A와 B가 있을 때, (A-B)와 (B-A)의 합집합을 A와 B의 대칭 차집합이라고 한다.\n",
    "\n",
    "예를 들어, A = { 1, 2, 4 } 이고, B = { 2, 3, 4, 5, 6 } 라고 할 때,  A-B = { 1 } 이고, B-A = { 3, 5, 6 } 이므로, 대칭 차집합의 원소의 개수는 1 + 3 = 4개이다.\n",
    "\n",
    "### 입력\n",
    "---\n",
    "첫째 줄에 집합 A의 원소의 개수와 집합 B의 원소의 개수가 빈 칸을 사이에 두고 주어진다. 둘째 줄에는 집합 A의 모든 원소가, 셋째 줄에는 집합 B의 모든 원소가 빈 칸을 사이에 두고 각각 주어진다. 각 집합의 원소의 개수는 200,000을 넘지 않으며, 모든 원소의 값은 100,000,000을 넘지 않는다.\n",
    "\n",
    "### 출력\n",
    "---\n",
    "첫째 줄에 대칭 차집합의 원소의 개수를 출력한다."
   ]
  },
  {
   "cell_type": "markdown",
   "metadata": {},
   "source": [
    "3 5\n",
    "1 2 4\n",
    "2 3 4 5 6"
   ]
  },
  {
   "cell_type": "code",
   "execution_count": 4,
   "metadata": {},
   "outputs": [
    {
     "name": "stdout",
     "output_type": "stream",
     "text": [
      "{1, 2, 4} {2, 3, 4, 5, 6}\n",
      "{1} {3, 5, 6}\n",
      "4\n"
     ]
    }
   ],
   "source": [
    "A, B = list(map(int, input().rstrip().split()))\n",
    "a_li = list(map(int, input().rstrip().split()))\n",
    "b_li = list(map(int, input().rstrip().split()))\n",
    "\n",
    "a_set, b_set = set(a_li), set(b_li)\n",
    "\n",
    "res_1 = (a_set - b_set) \n",
    "res_2 = (b_set - a_set)\n",
    "print(a_set, b_set)\n",
    "print(res_1, res_2)\n",
    "print(len(res_1) + len(res_2))"
   ]
  },
  {
   "cell_type": "code",
   "execution_count": null,
   "metadata": {},
   "outputs": [],
   "source": [
    "import sys\n",
    "input = sys.stdin.readline\n",
    "\n",
    "A, B = list(map(int, input().rstrip().split()))\n",
    "a_li = list(map(int, input().rstrip().split()))\n",
    "b_li = list(map(int, input().rstrip().split()))\n",
    "\n",
    "a_set, b_set = set(a_li), set(b_li)\n",
    "res_1 = (a_set - b_set) \n",
    "res_2 = (b_set - a_set)\n",
    "\n",
    "print(len(res_1) + len(res_2))"
   ]
  }
 ],
 "metadata": {
  "kernelspec": {
   "display_name": "pepi10",
   "language": "python",
   "name": "python3"
  },
  "language_info": {
   "codemirror_mode": {
    "name": "ipython",
    "version": 3
   },
   "file_extension": ".py",
   "mimetype": "text/x-python",
   "name": "python",
   "nbconvert_exporter": "python",
   "pygments_lexer": "ipython3",
   "version": "3.7.12"
  }
 },
 "nbformat": 4,
 "nbformat_minor": 2
}
