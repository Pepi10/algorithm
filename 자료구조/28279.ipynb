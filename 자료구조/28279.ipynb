{
 "cells": [
  {
   "cell_type": "markdown",
   "metadata": {},
   "source": [
    "### 문제\n",
    "---\n",
    "\n",
    "정수를 저장하는 덱을 구현한 다음, 입력으로 주어지는 명령을 처리하는 프로그램을 작성하시오.\n",
    "\n",
    "명령은 총 여덟 가지이다.\n",
    "\n",
    "1 X: 정수 X를 덱의 앞에 넣는다. (1 ≤ X ≤ 100,000)\n",
    "2 X: 정수 X를 덱의 뒤에 넣는다. (1 ≤ X ≤ 100,000)\n",
    "3: 덱에 정수가 있다면 맨 앞의 정수를 빼고 출력한다. 없다면 -1을 대신 출력한다.\n",
    "4: 덱에 정수가 있다면 맨 뒤의 정수를 빼고 출력한다. 없다면 -1을 대신 출력한다.\n",
    "5: 덱에 들어있는 정수의 개수를 출력한다.\n",
    "6: 덱이 비어있으면 1, 아니면 0을 출력한다.\n",
    "7: 덱에 정수가 있다면 맨 앞의 정수를 출력한다. 없다면 -1을 대신 출력한다.\n",
    "8: 덱에 정수가 있다면 맨 뒤의 정수를 출력한다. 없다면 -1을 대신 출력한다.\n",
    "\n",
    "#### 입력\n",
    "---\n",
    "\n",
    "첫째 줄에 명령의 수 N이 주어진다. (1 ≤ N ≤ 1,000,000)\n",
    "\n",
    "둘째 줄부터 N개 줄에 명령이 하나씩 주어진다.\n",
    "\n",
    "출력을 요구하는 명령은 하나 이상 주어진다.\n",
    "\n",
    "#### 출력\n",
    "---\n",
    "\n",
    "출력을 요구하는 명령이 주어질 때마다 명령의 결과를 한 줄에 하나씩 출력한다."
   ]
  },
  {
   "cell_type": "code",
   "execution_count": 3,
   "metadata": {},
   "outputs": [
    {
     "name": "stdout",
     "output_type": "stream",
     "text": [
      "1\n",
      "8\n",
      "3\n",
      "8\n",
      "3\n",
      "5\n",
      "3\n"
     ]
    }
   ],
   "source": [
    "# import sys\n",
    "# input = sys.stdin.readline\n",
    "\n",
    "loop = int(input().rstrip())\n",
    "res = [0] * loop\n",
    "latest = 0\n",
    "\n",
    "for _ in range(loop):\n",
    "    order = list(map(int, input().rstrip().split()))\n",
    "    if order[0] == 1:\n",
    "        res.insert(0, order[1])\n",
    "        latest += 1\n",
    "    elif order[0] == 2:\n",
    "        res[latest] = order[1]\n",
    "        latest += 1\n",
    "    elif order[0] == 3:\n",
    "        if latest > 0:\n",
    "            print(res[0])\n",
    "            res.pop(0)\n",
    "            latest -= 1\n",
    "        else:\n",
    "            print(-1)\n",
    "    elif order[0] == 4:\n",
    "         if latest > 0:\n",
    "             print(res[latest - 1])\n",
    "             res.pop(latest -1)\n",
    "             latest -= 1\n",
    "         else:\n",
    "             print(-1)\n",
    "    elif order[0] == 5:\n",
    "        print(latest)\n",
    "    elif order[0] == 6:\n",
    "        if latest > 0:\n",
    "            print(0)\n",
    "        else:\n",
    "            print(1)\n",
    "    elif order[0] == 7:\n",
    "        if latest > 0:\n",
    "            print(res[0])\n",
    "        else:\n",
    "            print(-1)\n",
    "    elif order[0] == 8:\n",
    "        if latest > 0:\n",
    "            print(res[latest -1])\n",
    "        else:\n",
    "            print(-1)"
   ]
  },
  {
   "cell_type": "markdown",
   "metadata": {},
   "source": [
    "* __1번과 3번조건이 O(N)의 시간복잡도를 가지기 때문에__\n",
    "* __이를 O(1)로 바꾸기 위해 collections 모듈의 deque 사용__"
   ]
  },
  {
   "cell_type": "code",
   "execution_count": 14,
   "metadata": {},
   "outputs": [
    {
     "data": {
      "text/plain": [
       "deque([2, 3])"
      ]
     },
     "execution_count": 14,
     "metadata": {},
     "output_type": "execute_result"
    }
   ],
   "source": [
    "from collections import deque\n",
    "\n",
    "deq = deque()\n",
    "deq.append(2)\n",
    "deq.append(3)\n",
    "deq.appendleft(1)\n",
    "deq.popleft()\n",
    "deq"
   ]
  },
  {
   "cell_type": "code",
   "execution_count": 15,
   "metadata": {},
   "outputs": [
    {
     "name": "stdout",
     "output_type": "stream",
     "text": [
      "1\n",
      "8\n",
      "3\n",
      "8\n",
      "3\n",
      "5\n",
      "3\n"
     ]
    }
   ],
   "source": [
    "from collections import deque\n",
    "\n",
    "loop = int(input().rstrip())\n",
    "deq = deque()\n",
    "latest = 0\n",
    "\n",
    "for _ in range(loop):\n",
    "    order = list(map(int, input().rstrip().split()))\n",
    "    if order[0] == 1:\n",
    "        deq.appendleft(order[1])\n",
    "        latest += 1\n",
    "    elif order[0] == 2:\n",
    "        deq.append(order[1])\n",
    "        latest += 1\n",
    "    elif order[0] == 3:\n",
    "        if latest > 0:\n",
    "            print(deq.popleft())\n",
    "            latest -= 1\n",
    "        else:\n",
    "            print(-1)\n",
    "    elif order[0] == 4:\n",
    "         if latest > 0:\n",
    "             print(deq.pop())\n",
    "             latest -= 1\n",
    "         else:\n",
    "             print(-1)\n",
    "    elif order[0] == 5:\n",
    "        print(latest)\n",
    "    elif order[0] == 6:\n",
    "        if latest > 0:\n",
    "            print(0)\n",
    "        else:\n",
    "            print(1)\n",
    "    elif order[0] == 7:\n",
    "        if latest > 0:\n",
    "            print(deq[0])\n",
    "        else:\n",
    "            print(-1)\n",
    "    elif order[0] == 8:\n",
    "        if latest > 0:\n",
    "            print(deq[latest -1])\n",
    "        else:\n",
    "            print(-1)"
   ]
  },
  {
   "cell_type": "code",
   "execution_count": null,
   "metadata": {},
   "outputs": [],
   "source": [
    "import sys\n",
    "from collections import deque\n",
    "input = sys.stdin.readline\n",
    "\n",
    "loop = int(input().rstrip())\n",
    "deq = deque()\n",
    "latest = 0\n",
    "\n",
    "for _ in range(loop):\n",
    "    order = list(map(int, input().rstrip().split()))\n",
    "    if order[0] == 1:\n",
    "        deq.appendleft(order[1])\n",
    "        latest += 1\n",
    "    elif order[0] == 2:\n",
    "        deq.append(order[1])\n",
    "        latest += 1\n",
    "    elif order[0] == 3:\n",
    "        if latest > 0:\n",
    "            print(deq.popleft())\n",
    "            latest -= 1\n",
    "        else:\n",
    "            print(-1)\n",
    "    elif order[0] == 4:\n",
    "         if latest > 0:\n",
    "             print(deq.pop())\n",
    "             latest -= 1\n",
    "         else:\n",
    "             print(-1)\n",
    "    elif order[0] == 5:\n",
    "        print(latest)\n",
    "    elif order[0] == 6:\n",
    "        if latest > 0:\n",
    "            print(0)\n",
    "        else:\n",
    "            print(1)\n",
    "    elif order[0] == 7:\n",
    "        if latest > 0:\n",
    "            print(deq[0])\n",
    "        else:\n",
    "            print(-1)\n",
    "    elif order[0] == 8:\n",
    "        if latest > 0:\n",
    "            print(deq[latest -1])\n",
    "        else:\n",
    "            print(-1)"
   ]
  }
 ],
 "metadata": {
  "kernelspec": {
   "display_name": "Python 3",
   "language": "python",
   "name": "python3"
  },
  "language_info": {
   "codemirror_mode": {
    "name": "ipython",
    "version": 3
   },
   "file_extension": ".py",
   "mimetype": "text/x-python",
   "name": "python",
   "nbconvert_exporter": "python",
   "pygments_lexer": "ipython3",
   "version": "3.11.9"
  }
 },
 "nbformat": 4,
 "nbformat_minor": 2
}
