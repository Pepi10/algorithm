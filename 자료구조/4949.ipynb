{
 "cells": [
  {
   "cell_type": "markdown",
   "metadata": {},
   "source": [
    "### 문제\n",
    "---\n",
    "\n",
    "문자열에 포함되는 괄호는 소괄호(\"()\") 와 대괄호(\"[]\")로 2종류이고, 문자열이 균형을 이루는 조건은 아래와 같다.\n",
    "\n",
    "  * 모든 왼쪽 소괄호(\"(\")는 오른쪽 소괄호(\")\")와만 짝을 이뤄야 한다.\n",
    "  * 모든 왼쪽 대괄호(\"[\")는 오른쪽 대괄호(\"]\")와만 짝을 이뤄야 한다.\n",
    "  * 모든 오른쪽 괄호들은 자신과 짝을 이룰 수 있는 왼쪽 괄호가 존재한다.\n",
    "  * 모든 괄호들의 짝은 1:1 매칭만 가능하다. 즉, 괄호 하나가 둘 이상의 괄호와 짝지어지지 않는다.\n",
    "  * 짝을 이루는 두 괄호가 있을 때, 그 사이에 있는 문자열도 균형이 잡혀야 한다.\n",
    "\n",
    "\n",
    "#### 입력\n",
    "---\n",
    "\n",
    "각 문자열은 마지막 글자를 제외하고 영문 알파벳, 공백, 소괄호(\"( )\"), 대괄호(\"[ ]\")로 이루어져 있으며, 온점(\".\")으로 끝나고, 길이는 100글자보다 작거나 같다.\n",
    "\n",
    "입력의 종료조건으로 맨 마지막에 온점 하나(\".\")가 들어온다.\n",
    "\n",
    "#### 출력\n",
    "---\n",
    "\n",
    "각 줄마다 해당 문자열이 균형을 이루고 있으면 \"yes\"를, 아니면 \"no\"를 출력한다."
   ]
  },
  {
   "cell_type": "code",
   "execution_count": 1,
   "metadata": {},
   "outputs": [
    {
     "name": "stdout",
     "output_type": "stream",
     "text": [
      "yes\n",
      "yes\n",
      "no\n",
      "no\n",
      "no\n",
      "yes\n",
      "yes\n"
     ]
    }
   ],
   "source": [
    "# import sys\n",
    "# input = sys.stdin.readline\n",
    "\n",
    "while True:\n",
    "    string = input().rstrip()\n",
    "    if string == '.':\n",
    "        break\n",
    "    left_b = 0\n",
    "    right_b = 0\n",
    "    left_s = 0\n",
    "    right_s = 0\n",
    "    validation = 0\n",
    "\n",
    "    for _ in string:\n",
    "        if _ == '[':\n",
    "            validation = 2\n",
    "        elif _ == '(':\n",
    "            validation = 1\n",
    "\n",
    "        if validation == 2 and _ == ')':\n",
    "            break\n",
    "        elif validation == 2 and _ == ']':\n",
    "            validation = 0\n",
    "\n",
    "        if validation == 1 and _ == ']':\n",
    "            break\n",
    "        elif validation == 1 and _ == ')':\n",
    "            validation = 0\n",
    "\n",
    "               \n",
    "        if _ == '[':\n",
    "            left_b += 1\n",
    "        elif _ == ']':\n",
    "            right_b += 1\n",
    "        if left_b < right_b:\n",
    "            break\n",
    "        \n",
    "        if _ == '(':\n",
    "            left_s += 1\n",
    "        elif _ == ')':\n",
    "            right_s += 1\n",
    "        if left_s < right_s:\n",
    "            break\n",
    "        \n",
    "        last = _\n",
    "\n",
    "    if last == '.' and left_b == right_b and left_s == right_s:\n",
    "        print('yes')\n",
    "    else:\n",
    "        print('no')"
   ]
  },
  {
   "cell_type": "markdown",
   "metadata": {},
   "source": [
    "> 오답"
   ]
  },
  {
   "cell_type": "markdown",
   "metadata": {},
   "source": [
    "So when I die (the [first] I will see in (heaven) is a score list).\n",
    "\n",
    "[ first in ] ( first out ).\n",
    "\n",
    "Half Moon tonight (At least it is better than no Moon at all].\n",
    "\n",
    "A rope may form )( a trail in a maze.\n",
    "\n",
    "Help( I[m being held prisoner in a fortune cookie factory)].\n",
    "\n",
    "([ (([( [ ] ) ( ) (( ))] )) ]).\n",
    "\n",
    " .\n",
    " \n",
    "."
   ]
  },
  {
   "cell_type": "markdown",
   "metadata": {},
   "source": [
    "> 스택 사용"
   ]
  },
  {
   "cell_type": "code",
   "execution_count": 3,
   "metadata": {},
   "outputs": [
    {
     "name": "stdout",
     "output_type": "stream",
     "text": [
      "yes\n",
      "yes\n",
      "no\n",
      "no\n",
      "no\n",
      "yes\n",
      "yes\n"
     ]
    }
   ],
   "source": [
    "def validation(string):\n",
    "    stack = []\n",
    "    test = {')': '(', ']': '['}\n",
    "\n",
    "    for _ in string:\n",
    "        if _ in '([':\n",
    "            stack.append(_)\n",
    "        elif _ in ')]':\n",
    "            if not stack or stack[-1] != test[_]:\n",
    "                return False\n",
    "            stack.pop()\n",
    "\n",
    "    return not stack\n",
    "\n",
    "while True:\n",
    "    string = input().rstrip()\n",
    "    if string == '.':\n",
    "        break\n",
    "    \n",
    "    if string[-1] != '.':\n",
    "        print('no')\n",
    "        continue\n",
    "\n",
    "    if validation(string):\n",
    "        print('yes')\n",
    "    else:\n",
    "        print('no')"
   ]
  }
 ],
 "metadata": {
  "kernelspec": {
   "display_name": "base",
   "language": "python",
   "name": "python3"
  },
  "language_info": {
   "codemirror_mode": {
    "name": "ipython",
    "version": 3
   },
   "file_extension": ".py",
   "mimetype": "text/x-python",
   "name": "python",
   "nbconvert_exporter": "python",
   "pygments_lexer": "ipython3",
   "version": "3.11.7"
  }
 },
 "nbformat": 4,
 "nbformat_minor": 2
}
