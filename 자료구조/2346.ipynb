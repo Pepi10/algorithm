{
 "cells": [
  {
   "cell_type": "markdown",
   "metadata": {},
   "source": [
    "### 문제\n",
    "---\n",
    "\n",
    "1번부터 N번까지 N개의 풍선이 원형으로 놓여 있고. i번 풍선의 오른쪽에는 i+1번 풍선이 있고, 왼쪽에는 i-1번 풍선이 있다. 단, 1번 풍선의 왼쪽에 N번 풍선이 있고, N번 풍선의 오른쪽에 1번 풍선이 있다. 각 풍선 안에는 종이가 하나 들어있고, 종이에는 -N보다 크거나 같고, N보다 작거나 같은 정수가 하나 적혀있다. 이 풍선들을 다음과 같은 규칙으로 터뜨린다.\n",
    "\n",
    "우선, 제일 처음에는 1번 풍선을 터뜨린다. 다음에는 풍선 안에 있는 종이를 꺼내어 그 종이에 적혀있는 값만큼 이동하여 다음 풍선을 터뜨린다. 양수가 적혀 있을 경우에는 오른쪽으로, 음수가 적혀 있을 때는 왼쪽으로 이동한다. 이동할 때에는 이미 터진 풍선은 빼고 이동한다.\n",
    "\n",
    "예를 들어 다섯 개의 풍선 안에 차례로 3, 2, 1, -3, -1이 적혀 있었다고 하자. 이 경우 3이 적혀 있는 1번 풍선, -3이 적혀 있는 4번 풍선, -1이 적혀 있는 5번 풍선, 1이 적혀 있는 3번 풍선, 2가 적혀 있는 2번 풍선의 순서대로 터지게 된다.\n",
    "\n",
    "#### 입력\n",
    "---\n",
    "\n",
    "첫째 줄에 자연수 N(1 ≤ N ≤ 1,000)이 주어진다. 다음 줄에는 차례로 각 풍선 안의 종이에 적혀 있는 수가 주어진다. 종이에 0은 적혀있지 않다.\n",
    "\n",
    "#### 출력\n",
    "---\n",
    "\n",
    "첫째 줄에 터진 풍선의 번호를 차례로 나열한다."
   ]
  },
  {
   "cell_type": "markdown",
   "metadata": {},
   "source": [
    "#### 구조 작성\n",
    "---\n",
    "\n",
    "리스트 받기     \n",
    "target 추적     \n",
    "target % len(list) -> len(list)는 -= 1     \n",
    "\n",
    "#### test\n",
    "---\n",
    "\n",
    "enumerate로 res_list에 출력값 받은뒤 print(*res_list) 가능?"
   ]
  },
  {
   "cell_type": "code",
   "execution_count": 26,
   "metadata": {},
   "outputs": [
    {
     "data": {
      "text/plain": [
       "(5, [3, 2, 1, -3, -1])"
      ]
     },
     "execution_count": 26,
     "metadata": {},
     "output_type": "execute_result"
    }
   ],
   "source": [
    "loop = int(input().rstrip())\n",
    "lst = list(map(int, input().rstrip().split()))\n",
    "\n",
    "loop, lst"
   ]
  },
  {
   "cell_type": "code",
   "execution_count": 27,
   "metadata": {},
   "outputs": [],
   "source": [
    "loop = 5 \n",
    "lst = [3, 2, 1, -3, -1]\n",
    "lst = list(enumerate(lst))"
   ]
  },
  {
   "cell_type": "code",
   "execution_count": 29,
   "metadata": {},
   "outputs": [
    {
     "data": {
      "text/plain": [
       "[(2, 1), (3, -3), (4, -1)]"
      ]
     },
     "execution_count": 29,
     "metadata": {},
     "output_type": "execute_result"
    }
   ],
   "source": [
    "lst.pop(0)\n",
    "lst"
   ]
  },
  {
   "cell_type": "code",
   "execution_count": 57,
   "metadata": {},
   "outputs": [],
   "source": [
    "total = 0\n",
    "total = total + 3 % 5"
   ]
  },
  {
   "cell_type": "code",
   "execution_count": 64,
   "metadata": {},
   "outputs": [],
   "source": [
    "total = 2"
   ]
  },
  {
   "cell_type": "code",
   "execution_count": 62,
   "metadata": {},
   "outputs": [],
   "source": [
    "total=(total - 3) % 4"
   ]
  },
  {
   "cell_type": "code",
   "execution_count": 68,
   "metadata": {},
   "outputs": [
    {
     "data": {
      "text/plain": [
       "2"
      ]
     },
     "execution_count": 68,
     "metadata": {},
     "output_type": "execute_result"
    }
   ],
   "source": [
    "total"
   ]
  },
  {
   "cell_type": "markdown",
   "metadata": {},
   "source": [
    "1. res에 최종값(index) 저장\n",
    "2. index pop\n",
    "3. 현재 index 종이 값만큼 이동 (왼쪽 = -, 오른쪽 = +)"
   ]
  },
  {
   "cell_type": "code",
   "execution_count": 31,
   "metadata": {},
   "outputs": [
    {
     "name": "stdout",
     "output_type": "stream",
     "text": [
      "1 4 5 3 2\n"
     ]
    }
   ],
   "source": [
    "loop = 5\n",
    "lst = [3, 2, 1, -3, -1]\n",
    "lst = list(enumerate(lst))\n",
    "trace = 0\n",
    "res = []\n",
    "\n",
    "for _ in range(loop):\n",
    "    temp = lst[trace]\n",
    "    res.append(temp[0] + 1)\n",
    "    lst.pop(trace)\n",
    "    if temp[1] > 0:\n",
    "        trace += temp[1] - 1\n",
    "        if lst:\n",
    "            trace = trace % len(lst)\n",
    "        else:\n",
    "            trace = 0\n",
    "    else:\n",
    "        trace += temp[1] - 1\n",
    "        if lst:\n",
    "            trace = -(trace % len(lst))\n",
    "        else:\n",
    "            trace = 0\n",
    "\n",
    "print(*res)"
   ]
  },
  {
   "cell_type": "code",
   "execution_count": 21,
   "metadata": {},
   "outputs": [],
   "source": [
    "trace = 2\n",
    "trace = trace - 4"
   ]
  },
  {
   "cell_type": "code",
   "execution_count": 24,
   "metadata": {},
   "outputs": [
    {
     "data": {
      "text/plain": [
       "1"
      ]
     },
     "execution_count": 24,
     "metadata": {},
     "output_type": "execute_result"
    }
   ],
   "source": [
    "trace % 3"
   ]
  },
  {
   "cell_type": "code",
   "execution_count": 1,
   "metadata": {},
   "outputs": [
    {
     "name": "stdout",
     "output_type": "stream",
     "text": [
      "1 2 4 3\n"
     ]
    }
   ],
   "source": [
    "# import sys\n",
    "# input = sys.stdin.readline\n",
    "\n",
    "loop = int(input().rstrip())\n",
    "lst = list(map(int, input().rstrip().split()))\n",
    "lst = list(enumerate(lst))\n",
    "trace = 0\n",
    "res = []\n",
    "\n",
    "for _ in range(loop):\n",
    "    temp = lst[trace]\n",
    "    res.append(temp[0] + 1)\n",
    "    lst.pop(trace)\n",
    "    if temp[1] > 0:\n",
    "        trace += temp[1] - 1\n",
    "        if lst:\n",
    "            trace = trace % len(lst)\n",
    "        else:\n",
    "            trace = 0\n",
    "    else:\n",
    "        trace += temp[1] - 1\n",
    "        if lst:\n",
    "            trace = -(trace % len(lst))\n",
    "        else:\n",
    "            trace = 0\n",
    "\n",
    "print(*res)"
   ]
  },
  {
   "cell_type": "code",
   "execution_count": 3,
   "metadata": {},
   "outputs": [
    {
     "name": "stdout",
     "output_type": "stream",
     "text": [
      "1 3 2 4\n"
     ]
    }
   ],
   "source": [
    "import sys\n",
    "input = sys.stdin.readline\n",
    "\n",
    "loop = int(input().rstrip())\n",
    "lst = list(map(int, input().rstrip().split()))\n",
    "lst = list(enumerate(lst))\n",
    "trace = 0\n",
    "res = []\n",
    "\n",
    "for _ in range(loop):\n",
    "    temp = lst[trace]\n",
    "    res.append(temp[0] + 1)\n",
    "    lst.pop(trace)\n",
    "    \n",
    "    if not lst:\n",
    "        break\n",
    "    \n",
    "    if temp[1] > 0:\n",
    "        trace = (trace + temp[1] - 1) % len(lst)\n",
    "    else:\n",
    "        trace = (trace + temp[1]) % len(lst)\n",
    "\n",
    "print(*res)"
   ]
  }
 ],
 "metadata": {
  "kernelspec": {
   "display_name": "Python 3",
   "language": "python",
   "name": "python3"
  },
  "language_info": {
   "codemirror_mode": {
    "name": "ipython",
    "version": 3
   },
   "file_extension": ".py",
   "mimetype": "text/x-python",
   "name": "python",
   "nbconvert_exporter": "python",
   "pygments_lexer": "ipython3",
   "version": "3.11.9"
  }
 },
 "nbformat": 4,
 "nbformat_minor": 2
}
