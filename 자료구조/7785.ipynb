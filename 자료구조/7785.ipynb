{
 "cells": [
  {
   "cell_type": "markdown",
   "metadata": {},
   "source": [
    "### 문제\n",
    "---\n",
    "상근이는 세계적인 소프트웨어 회사 기글에서 일한다. 이 회사의 가장 큰 특징은 자유로운 출퇴근 시간이다. 따라서, 직원들은 반드시 9시부터 6시까지 회사에 있지 않아도 된다.\n",
    "\n",
    "각 직원은 자기가 원할 때 출근할 수 있고, 아무때나 퇴근할 수 있다.\n",
    "\n",
    "상근이는 모든 사람의 출입카드 시스템의 로그를 가지고 있다. 이 로그는 어떤 사람이 회사에 들어왔는지, 나갔는지가 기록되어져 있다. 로그가 주어졌을 때, 현재 회사에 있는 모든 사람을 구하는 프로그램을 작성하시오.\n",
    "\n",
    "### 입력\n",
    "---\n",
    "첫째 줄에 로그에 기록된 출입 기록의 수 n이 주어진다. (2 ≤ n ≤ 106) 다음 n개의 줄에는 출입 기록이 순서대로 주어지며, 각 사람의 이름이 주어지고 \"enter\"나 \"leave\"가 주어진다. \"enter\"인 경우는 출근, \"leave\"인 경우는 퇴근이다.\n",
    "\n",
    "회사에는 동명이인이 없으며, 대소문자가 다른 경우에는 다른 이름이다. 사람들의 이름은 알파벳 대소문자로 구성된 5글자 이하의 문자열이다.\n",
    "\n",
    "### 출력\n",
    "---\n",
    "현재 회사에 있는 사람의 이름을 사전 순의 역순으로 한 줄에 한 명씩 출력한다."
   ]
  },
  {
   "cell_type": "code",
   "execution_count": 1,
   "metadata": {},
   "outputs": [
    {
     "data": {
      "text/plain": [
       "{0: ['Baha'], 1: ['Baha', 'Askar', 'Artem']}"
      ]
     },
     "execution_count": 1,
     "metadata": {},
     "output_type": "execute_result"
    }
   ],
   "source": [
    "roof = 4\n",
    "\n",
    "enter = {0: [], 1: []}\n",
    "for _ in range(roof):\n",
    "    name, stat = list(input().split())\n",
    "    if stat == \"enter\":\n",
    "        enter[1] += [name]\n",
    "    else:\n",
    "        enter[0] += [name]\n",
    "\n",
    "enter"
   ]
  },
  {
   "cell_type": "code",
   "execution_count": 18,
   "metadata": {},
   "outputs": [],
   "source": [
    "def search(list, target):\n",
    "    l, r = 0, len(list) - 1\n",
    "    while l <= r:\n",
    "        center = (l + r) // 2\n",
    "        if list[center] == target:\n",
    "            return True\n",
    "        elif list[center] < target:\n",
    "            l = center + 1\n",
    "        else:\n",
    "            r = center - 1\n",
    "    return False"
   ]
  },
  {
   "cell_type": "code",
   "execution_count": 19,
   "metadata": {},
   "outputs": [
    {
     "data": {
      "text/plain": [
       "False"
      ]
     },
     "execution_count": 19,
     "metadata": {},
     "output_type": "execute_result"
    }
   ],
   "source": [
    "search(enter[0], \"Askar\")"
   ]
  },
  {
   "cell_type": "code",
   "execution_count": 20,
   "metadata": {},
   "outputs": [
    {
     "name": "stdout",
     "output_type": "stream",
     "text": [
      "Askar\n",
      "Artem\n"
     ]
    }
   ],
   "source": [
    "for val in enter[1]:\n",
    "    if search(enter[0], val) == False:\n",
    "        print(val)"
   ]
  },
  {
   "cell_type": "code",
   "execution_count": 22,
   "metadata": {},
   "outputs": [
    {
     "name": "stdout",
     "output_type": "stream",
     "text": [
      "Askar\n",
      "Artem\n"
     ]
    }
   ],
   "source": [
    "def search(list, target):\n",
    "    l, r = 0, len(list) - 1\n",
    "    while l <= r:\n",
    "        center = (l + r) // 2\n",
    "        if list[center] == target:\n",
    "            return True\n",
    "        elif list[center] < target:\n",
    "            l = center + 1\n",
    "        else:\n",
    "            r = center - 1\n",
    "    return False\n",
    "\n",
    "roof = int(input())\n",
    "\n",
    "enter = {0: [], 1: []}\n",
    "for _ in range(roof):\n",
    "    name, stat = list(input().split())\n",
    "    if stat == \"enter\":\n",
    "        enter[1] += [name]\n",
    "    else:\n",
    "        enter[0] += [name]\n",
    "\n",
    "for val in enter[1]:\n",
    "    if search(enter[0], val) == False:\n",
    "        print(val)"
   ]
  },
  {
   "cell_type": "code",
   "execution_count": 2,
   "metadata": {},
   "outputs": [
    {
     "name": "stdout",
     "output_type": "stream",
     "text": [
      "y\n",
      "b\n",
      "a\n"
     ]
    }
   ],
   "source": [
    "def search(list, target):\n",
    "    l, r = 0, len(list) - 1\n",
    "    while l <= r:\n",
    "        center = (l + r) // 2\n",
    "        if list[center] == target:\n",
    "            return True\n",
    "        elif list[center] < target:\n",
    "            l = center + 1\n",
    "        else:\n",
    "            r = center - 1\n",
    "    return False\n",
    "\n",
    "roof = int(input())\n",
    "\n",
    "enter = {0: [], 1: []}\n",
    "for _ in range(roof):\n",
    "    name, stat = list(input().split())\n",
    "    if stat == \"enter\":\n",
    "        enter[1] += [name]\n",
    "    else:\n",
    "        enter[0] += [name]\n",
    "\n",
    "for val in sorted(enter[1])[::-1]:\n",
    "    if search(enter[0], val) == False:\n",
    "        print(val)"
   ]
  },
  {
   "cell_type": "code",
   "execution_count": 10,
   "metadata": {},
   "outputs": [
    {
     "name": "stdout",
     "output_type": "stream",
     "text": [
      "Askar\n",
      "Artem\n"
     ]
    }
   ],
   "source": [
    "import sys\n",
    "input = sys.stdin.readline\n",
    "\n",
    "roof = int(input())\n",
    "emp = {}\n",
    "for i in range(roof):\n",
    "    name, stat = input().split()\n",
    "    emp[name] = stat\n",
    "\n",
    "for name, stat in sorted(emp.items(), reverse = True):\n",
    "    if stat == \"enter\":\n",
    "        print(name)"
   ]
  }
 ],
 "metadata": {
  "kernelspec": {
   "display_name": "base",
   "language": "python",
   "name": "python3"
  },
  "language_info": {
   "codemirror_mode": {
    "name": "ipython",
    "version": 3
   },
   "file_extension": ".py",
   "mimetype": "text/x-python",
   "name": "python",
   "nbconvert_exporter": "python",
   "pygments_lexer": "ipython3",
   "version": "3.7.12"
  }
 },
 "nbformat": 4,
 "nbformat_minor": 2
}
