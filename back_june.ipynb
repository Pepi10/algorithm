{
 "cells": [
  {
   "cell_type": "code",
   "execution_count": 65,
   "metadata": {},
   "outputs": [
    {
     "name": "stdout",
     "output_type": "stream",
     "text": [
      "1 2 1 1 0\n"
     ]
    }
   ],
   "source": [
    "### 10801 ###\n",
    "\n",
    "def mk_list(x):\n",
    "    m = []\n",
    "    for x in range(1, x+1):\n",
    "        m.append(0)\n",
    "    return m\n",
    "buc_list = mk_list(bucket)\n",
    "\n",
    "for _ in range(method):\n",
    "    i, j, k = list(map(int, input().split()))\n",
    "    for __ in range(i-1, j):\n",
    "        buc_list[__] = k\n",
    "\n",
    "s = ''\n",
    "for _ in buc_list:\n",
    "    s += str(_) + ' '\n",
    "\n",
    "print(s.strip())"
   ]
  },
  {
   "cell_type": "code",
   "execution_count": 84,
   "metadata": {},
   "outputs": [
    {
     "name": "stdout",
     "output_type": "stream",
     "text": [
      "3 1 4 2 5\n"
     ]
    }
   ],
   "source": [
    "### 10813 ###\n",
    "\n",
    "bucket, method = list(map(int, input().split()))\n",
    "\n",
    "def mk_list(x):\n",
    "    m = []\n",
    "    for _ in range(1, x+1):\n",
    "        m.append(_)\n",
    "    return m\n",
    "\n",
    "buc_list = mk_list(bucket)\n",
    "\n",
    "for _ in range(method):\n",
    "    i, j = list(map(int, input().split()))\n",
    "    temp_i = buc_list[i-1]\n",
    "    temp_j = buc_list[j-1]\n",
    "    buc_list[i-1] = temp_j\n",
    "    buc_list[j-1] = temp_i\n",
    "\n",
    "s = ''\n",
    "for _ in buc_list:\n",
    "    s += str(_) + ' '\n",
    "\n",
    "print(s.strip())"
   ]
  },
  {
   "cell_type": "code",
   "execution_count": 109,
   "metadata": {},
   "outputs": [
    {
     "name": "stdout",
     "output_type": "stream",
     "text": [
      "2\n",
      "8\n"
     ]
    }
   ],
   "source": [
    "### 5597 ###\n",
    "\n",
    "def mk_list():\n",
    "    mk = []\n",
    "    for _ in range(1, 30+1):\n",
    "        mk.append(_)\n",
    "    return mk\n",
    "\n",
    "attendance = mk_list()\n",
    "\n",
    "for _ in range(1, 29):\n",
    "    attendance.remove(int(input()))\n",
    "\n",
    "print(f\"{min(attendance)}\\n{max(attendance)}\")"
   ]
  },
  {
   "cell_type": "code",
   "execution_count": 117,
   "metadata": {},
   "outputs": [
    {
     "name": "stdout",
     "output_type": "stream",
     "text": [
      "10\n"
     ]
    }
   ],
   "source": [
    "### 3052 ###\n",
    "\n",
    "count_list = list()\n",
    "for _ in range(10):\n",
    "    count_list.append(int(input()) % 42)\n",
    "\n",
    "print(len(set(count_list)))"
   ]
  },
  {
   "cell_type": "code",
   "execution_count": 134,
   "metadata": {},
   "outputs": [
    {
     "name": "stdout",
     "output_type": "stream",
     "text": [
      "3 4 1 2 5\n"
     ]
    }
   ],
   "source": [
    "### 10811 ###\n",
    "\n",
    "bucket, method = list(map(int, input().split()))\n",
    "\n",
    "def mklist(x):\n",
    "    mk = list()\n",
    "    for _ in range(1, x+1):\n",
    "        mk.append(_)\n",
    "    return mk\n",
    "\n",
    "buc_list = mklist(bucket)\n",
    "\n",
    "for _ in range(method):\n",
    "    i, j = list(map(int, input().split()))\n",
    "    buc_list[i-1:j] = buc_list[i-1:j][::-1]\n",
    "\n",
    "s = ''\n",
    "for _ in buc_list:\n",
    "    s += str(_) + ' '\n",
    "\n",
    "print(s.strip())"
   ]
  },
  {
   "cell_type": "code",
   "execution_count": 149,
   "metadata": {},
   "outputs": [
    {
     "name": "stdout",
     "output_type": "stream",
     "text": [
      "65.0\n"
     ]
    }
   ],
   "source": [
    "### 1546 ###\n",
    "\n",
    "nums = int(input())\n",
    "input_num = list(map(int, input().split()))\n",
    "high_sc = max(input_num)\n",
    "\n",
    "i = 0\n",
    "for _ in range(nums):\n",
    "    i += (input_num[_] / high_sc)\n",
    "\n",
    "print(i * 100 / nums)"
   ]
  },
  {
   "cell_type": "code",
   "execution_count": 7,
   "metadata": {},
   "outputs": [
    {
     "name": "stdout",
     "output_type": "stream",
     "text": [
      "2\n"
     ]
    }
   ],
   "source": [
    "### 5 / 2941 ###\n",
    "\n",
    "inp = input()\n",
    "\n",
    "word_list = [\"c=\", \"c-\", \"dz=\", \"d-\", \"lj\", \"nj\", \"s=\", \"z=\"]\n",
    "\n",
    "for _ in word_list:\n",
    "    inp = inp.replace(_, '!')\n",
    "\n",
    "re_num = inp.count('!')\n",
    "inp = inp.replace('!', '')\n",
    "print(len(inp) + re_num)"
   ]
  },
  {
   "cell_type": "code",
   "execution_count": null,
   "metadata": {},
   "outputs": [],
   "source": [
    "### 5 / 1316 ###\n",
    "\n",
    "roof = int(input())\n",
    "\n",
    "res = roof\n",
    "for _ in range(roof):\n",
    "    input_str = input()\n",
    "    _dict = {}\n",
    "    for num, voca in enumerate(input_str):\n",
    "        _dict[num] = voca\n",
    "        if len(_dict) == 1:\n",
    "            pass\n",
    "        elif _dict[num] != _dict[num - 1] and voca in list(_dict.values())[:-1]:\n",
    "            res -= 1\n",
    "            break\n",
    "print(res)"
   ]
  }
 ],
 "metadata": {
  "kernelspec": {
   "display_name": "base",
   "language": "python",
   "name": "python3"
  },
  "language_info": {
   "codemirror_mode": {
    "name": "ipython",
    "version": 3
   },
   "file_extension": ".py",
   "mimetype": "text/x-python",
   "name": "python",
   "nbconvert_exporter": "python",
   "pygments_lexer": "ipython3",
   "version": "3.11.7"
  }
 },
 "nbformat": 4,
 "nbformat_minor": 2
}
