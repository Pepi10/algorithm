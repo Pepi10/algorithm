{
 "cells": [
  {
   "cell_type": "code",
   "execution_count": 1,
   "metadata": {},
   "outputs": [
    {
     "name": "stdout",
     "output_type": "stream",
     "text": [
      "Hello World\n"
     ]
    }
   ],
   "source": [
    "print(\"Hello World\")"
   ]
  },
  {
   "cell_type": "code",
   "execution_count": 2,
   "metadata": {},
   "outputs": [],
   "source": [
    "di = dict()\n",
    "\n",
    "di[3] = [\"axs\", \"ksb\", \"cuo\"]\n",
    "di[1] = [\"j\",\"a\",\"p\"]\n",
    "di[2] = [\"da\", \"ed\", \"ks\"]"
   ]
  },
  {
   "cell_type": "code",
   "execution_count": 3,
   "metadata": {},
   "outputs": [
    {
     "data": {
      "text/plain": [
       "{3: ['axs', 'ksb', 'cuo'], 1: ['j', 'a', 'p'], 2: ['da', 'ed', 'ks']}"
      ]
     },
     "execution_count": 3,
     "metadata": {},
     "output_type": "execute_result"
    }
   ],
   "source": [
    "di"
   ]
  },
  {
   "cell_type": "code",
   "execution_count": 5,
   "metadata": {},
   "outputs": [
    {
     "name": "stdout",
     "output_type": "stream",
     "text": [
      "a\n",
      "j\n",
      "p\n",
      "da\n",
      "ed\n",
      "ks\n",
      "axs\n",
      "cuo\n",
      "ksb\n"
     ]
    }
   ],
   "source": [
    "for ind in sorted(di):\n",
    "    for val in sorted(di[ind]):\n",
    "        print(val)"
   ]
  },
  {
   "cell_type": "code",
   "execution_count": 6,
   "metadata": {},
   "outputs": [
    {
     "name": "stdout",
     "output_type": "stream",
     "text": [
      "i\n",
      "im\n",
      "it\n",
      "no\n",
      "but\n",
      "more\n",
      "wait\n",
      "wont\n",
      "yours\n",
      "cannot\n",
      "hesitate\n"
     ]
    }
   ],
   "source": [
    "roof = int(input())\n",
    "\n",
    "temp_di = {}\n",
    "for _ in range(roof):\n",
    "    val = input()\n",
    "    ind = len(val)\n",
    "    if ind not in temp_di:\n",
    "        temp_di[ind] = []\n",
    "    if val in temp_di[ind]:\n",
    "        pass \n",
    "    else:\n",
    "        temp_di[ind].append(val)\n",
    "\n",
    "for ind in sorted(temp_di):\n",
    "    for val in sorted(temp_di[ind]):\n",
    "        print(val)"
   ]
  },
  {
   "cell_type": "code",
   "execution_count": null,
   "metadata": {},
   "outputs": [],
   "source": [
    "import sys\n",
    "\n",
    "roof = int(sys.stdin.readline().rstrip())\n",
    "\n",
    "temp_di = {}\n",
    "for _ in range(roof):\n",
    "    val = sys.stdin.readline().rstrip()\n",
    "    ind = len(val)\n",
    "    if ind not in temp_di:\n",
    "        temp_di[ind] = []\n",
    "    if val in temp_di[ind]:\n",
    "        pass \n",
    "    else:\n",
    "        temp_di[ind].append(val)\n",
    "\n",
    "for ind in sorted(temp_di):\n",
    "    for val in sorted(temp_di[ind]):\n",
    "        print(val)"
   ]
  }
 ],
 "metadata": {
  "kernelspec": {
   "display_name": "base",
   "language": "python",
   "name": "python3"
  },
  "language_info": {
   "codemirror_mode": {
    "name": "ipython",
    "version": 3
   },
   "file_extension": ".py",
   "mimetype": "text/x-python",
   "name": "python",
   "nbconvert_exporter": "python",
   "pygments_lexer": "ipython3",
   "version": "3.11.7"
  }
 },
 "nbformat": 4,
 "nbformat_minor": 2
}
