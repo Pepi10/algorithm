{
 "cells": [
  {
   "cell_type": "code",
   "execution_count": 28,
   "metadata": {},
   "outputs": [
    {
     "name": "stdout",
     "output_type": "stream",
     "text": [
      "1 0 1 0 1 0\n"
     ]
    }
   ],
   "source": [
    "_ = int(input())\n",
    "num_li = list(map(int, input().split()))\n",
    "sorted_li = sorted(num_li)"
   ]
  },
  {
   "cell_type": "code",
   "execution_count": 30,
   "metadata": {},
   "outputs": [
    {
     "data": {
      "text/plain": [
       "{999: 0, 1000: 1}"
      ]
     },
     "execution_count": 30,
     "metadata": {},
     "output_type": "execute_result"
    }
   ],
   "source": [
    "temp_dict = dict()\n",
    "ii = 0\n",
    "for val in sorted_li:\n",
    "    if val in list(temp_dict.keys()):\n",
    "        pass\n",
    "    else:\n",
    "        temp_dict[val] = ii\n",
    "        ii += 1\n",
    "temp_dict"
   ]
  },
  {
   "cell_type": "code",
   "execution_count": 31,
   "metadata": {},
   "outputs": [
    {
     "name": "stdout",
     "output_type": "stream",
     "text": [
      "1 0 1 0 1 0\n"
     ]
    }
   ],
   "source": [
    "res = list()\n",
    "for num in num_li:\n",
    "    res.append(temp_dict[num])\n",
    "\n",
    "print(*res)"
   ]
  },
  {
   "cell_type": "code",
   "execution_count": null,
   "metadata": {},
   "outputs": [],
   "source": [
    "import sys\n",
    "\n",
    "_ = int(input())\n",
    "num_li = list(map(int, input().split()))\n",
    "sorted_li = sorted(num_li)\n",
    "\n",
    "temp_dict = dict()\n",
    "ii = 0\n",
    "for val in sorted_li:\n",
    "    if val in list(temp_dict.keys()):\n",
    "        pass\n",
    "    else:\n",
    "        temp_dict[val] = ii\n",
    "        ii += 1\n",
    "\n",
    "res = list()\n",
    "for num in num_li:\n",
    "    res.append(temp_dict[num])\n",
    "\n",
    "print(*res)"
   ]
  },
  {
   "cell_type": "markdown",
   "metadata": {},
   "source": [
    "### time error ###"
   ]
  },
  {
   "cell_type": "code",
   "execution_count": 33,
   "metadata": {},
   "outputs": [],
   "source": [
    "import sys\n",
    "\n",
    "_ = sys.stdin.readline().rstrip()\n",
    "num_li = list(map(int, sys.stdin.readline().rstrip().split(' ')))\n",
    "sorted_li = sorted(num_li)\n",
    "\n",
    "temp_dict = dict()\n",
    "ii = 0\n",
    "for val in sorted_li:\n",
    "    if val in list(temp_dict.keys()):\n",
    "        pass\n",
    "    else:\n",
    "        temp_dict[val] = ii\n",
    "        ii += 1\n",
    "\n",
    "res = list()\n",
    "for num in num_li:\n",
    "    res.append(temp_dict[num])\n",
    "\n",
    "print(*res)"
   ]
  },
  {
   "cell_type": "code",
   "execution_count": 2,
   "metadata": {},
   "outputs": [],
   "source": [
    "num_li = [2, 4, -10, 4, -9]\n",
    "sorted_li = sorted(num_li)"
   ]
  },
  {
   "cell_type": "code",
   "execution_count": 7,
   "metadata": {},
   "outputs": [
    {
     "data": {
      "text/plain": [
       "[2, 4, -10, 4, -9]"
      ]
     },
     "execution_count": 7,
     "metadata": {},
     "output_type": "execute_result"
    }
   ],
   "source": [
    "num_li"
   ]
  },
  {
   "cell_type": "code",
   "execution_count": 28,
   "metadata": {},
   "outputs": [
    {
     "data": {
      "text/plain": [
       "{-10, -9, 2, 4}"
      ]
     },
     "execution_count": 28,
     "metadata": {},
     "output_type": "execute_result"
    }
   ],
   "source": [
    "set(num_li)"
   ]
  },
  {
   "cell_type": "code",
   "execution_count": 29,
   "metadata": {},
   "outputs": [
    {
     "name": "stdout",
     "output_type": "stream",
     "text": [
      "2\n",
      "4\n",
      "-10\n",
      "-9\n"
     ]
    }
   ],
   "source": [
    "for _ in set(num_li):\n",
    "    print(_)"
   ]
  }
 ],
 "metadata": {
  "kernelspec": {
   "display_name": "kdt7",
   "language": "python",
   "name": "python3"
  },
  "language_info": {
   "codemirror_mode": {
    "name": "ipython",
    "version": 3
   },
   "file_extension": ".py",
   "mimetype": "text/x-python",
   "name": "python",
   "nbconvert_exporter": "python",
   "pygments_lexer": "ipython3",
   "version": "3.11.5"
  }
 },
 "nbformat": 4,
 "nbformat_minor": 2
}
