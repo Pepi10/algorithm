{
 "cells": [
  {
   "cell_type": "code",
   "execution_count": 13,
   "metadata": {},
   "outputs": [],
   "source": [
    "import sys\n",
    "from collections import Counter\n",
    "input = sys.stdin.readline \n",
    "count = Counter()\n",
    "freq = list()\n",
    "\n",
    "loop = int(input().rstrip())\n",
    "num_lst = [0] * loop\n",
    "\n",
    "for _ in range(loop):\n",
    "    num = int(input().rstrip())\n",
    "    num_lst[_] = num\n",
    "num_lst"
   ]
  },
  {
   "cell_type": "code",
   "execution_count": 11,
   "metadata": {},
   "outputs": [],
   "source": [
    "loop = 11\n",
    "num_lst = [1, 3, 4, 4, 4, 3, 2, 1, 5, 5, 5]"
   ]
  },
  {
   "cell_type": "code",
   "execution_count": 2,
   "metadata": {},
   "outputs": [
    {
     "name": "stdout",
     "output_type": "stream",
     "text": [
      "3\n"
     ]
    }
   ],
   "source": [
    "### 1 ###\n",
    "avg = int(round(sum(num_lst) / loop, 0))\n",
    "print(avg)"
   ]
  },
  {
   "cell_type": "code",
   "execution_count": 3,
   "metadata": {},
   "outputs": [
    {
     "name": "stdout",
     "output_type": "stream",
     "text": [
      "4\n"
     ]
    }
   ],
   "source": [
    "### 2 ###\n",
    "num_lst.sort()\n",
    "median = num_lst[int(loop / 2)]\n",
    "print(median)"
   ]
  },
  {
   "cell_type": "code",
   "execution_count": 13,
   "metadata": {},
   "outputs": [],
   "source": [
    "num_lst = [0, 0, -1]"
   ]
  },
  {
   "cell_type": "code",
   "execution_count": 19,
   "metadata": {},
   "outputs": [
    {
     "name": "stdout",
     "output_type": "stream",
     "text": [
      "[[2, 0], [1, -1]]\n",
      "[[2, 0]]\n",
      "0\n",
      "temp 다!\n"
     ]
    }
   ],
   "source": [
    "### 3 ###\n",
    "from collections import Counter\n",
    "count = Counter()\n",
    "temp = list()\n",
    "\n",
    "for _ in set(num_lst):\n",
    "    temp.append([num_lst.count(_), _])\n",
    "temp.sort(reverse = True)\n",
    "print(temp)\n",
    "\n",
    "freq = list()\n",
    "for _ in temp:\n",
    "    if _[0] == temp[0][0]:\n",
    "        freq.append(_)\n",
    "print(freq)\n",
    "\n",
    "if len(freq) > 1:\n",
    "    print(freq[-2][1])\n",
    "    print(\"freq 다!\")\n",
    "else:\n",
    "    print(temp[0][1])\n",
    "    print(\"temp 다!\")"
   ]
  },
  {
   "cell_type": "code",
   "execution_count": 5,
   "metadata": {},
   "outputs": [
    {
     "name": "stdout",
     "output_type": "stream",
     "text": [
      "4\n"
     ]
    }
   ],
   "source": [
    "### 4 ###\n",
    "ran = max(num_lst) - min(num_lst)\n",
    "print(ran)"
   ]
  },
  {
   "cell_type": "code",
   "execution_count": 26,
   "metadata": {},
   "outputs": [
    {
     "name": "stdout",
     "output_type": "stream",
     "text": [
      "0\n",
      "0\n",
      "0\n",
      "1\n"
     ]
    }
   ],
   "source": [
    "import sys\n",
    "input = sys.stdin.readline \n",
    "from collections import Counter\n",
    "count = Counter()\n",
    "freq = list()\n",
    "\n",
    "loop = int(input().rstrip())\n",
    "num_lst = [0] * loop\n",
    "\n",
    "for _ in range(loop):\n",
    "    num = int(input().rstrip())\n",
    "    num_lst[_] = num\n",
    "\n",
    "### 1 ###\n",
    "avg = int(round(sum(num_lst) / loop, 0))\n",
    "print(avg)\n",
    "\n",
    "### 2 ###\n",
    "num_lst.sort()\n",
    "median = num_lst[int(loop / 2)]\n",
    "print(median)\n",
    "\n",
    "### 3 ###\n",
    "from collections import Counter\n",
    "count = Counter()\n",
    "temp = list()\n",
    "\n",
    "for _ in set(num_lst):\n",
    "    temp.append([num_lst.count(_), _])\n",
    "temp.sort(reverse = True)\n",
    "\n",
    "freq = list()\n",
    "for _ in temp:\n",
    "    if _[0] == temp[0][0]:\n",
    "        freq.append(_)\n",
    "\n",
    "if len(freq) > 1:\n",
    "    print(freq[-2][1])\n",
    "else:\n",
    "    print(temp[0][1])\n",
    "\n",
    "### 4 ###\n",
    "ran = max(num_lst) - min(num_lst)\n",
    "print(ran)"
   ]
  }
 ],
 "metadata": {
  "kernelspec": {
   "display_name": "Python 3",
   "language": "python",
   "name": "python3"
  },
  "language_info": {
   "codemirror_mode": {
    "name": "ipython",
    "version": 3
   },
   "file_extension": ".py",
   "mimetype": "text/x-python",
   "name": "python",
   "nbconvert_exporter": "python",
   "pygments_lexer": "ipython3",
   "version": "3.11.9"
  }
 },
 "nbformat": 4,
 "nbformat_minor": 2
}
