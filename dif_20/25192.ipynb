{
 "cells": [
  {
   "cell_type": "markdown",
   "metadata": {},
   "source": [
    "### 문제\n",
    "---\n",
    "\n",
    "인사하는 곰곰이\n",
    "\n",
    "알고리즘 입문방 오픈 채팅방에서는 새로운 분들이 입장을 할 때마다 곰곰티콘을 사용해 인사를 한다. 이를 본 문자열 킬러 임스는 채팅방의 기록을 수집해 그 중 곰곰티콘이 사용된 횟수를 구해 보기로 했다.\n",
    "\n",
    "ENTER는 새로운 사람이 채팅방에 입장했음을 나타낸다. 그 외는 채팅을 입력한 유저의 닉네임을 나타낸다. 닉네임은 숫자 또는 영문 대소문자로 구성되어 있다.\n",
    "\n",
    "새로운 사람이 입장한 이후 처음 채팅을 입력하는 사람은 반드시 곰곰티콘으로 인사를 한다. 그 외의 기록은 곰곰티콘을 쓰지 않은 평범한 채팅 기록이다.\n",
    "\n",
    "채팅 기록 중 곰곰티콘이 사용된 횟수를 구해보자!\n",
    "\n",
    "#### 입력\n",
    "---\n",
    "\n",
    "첫 번째 줄에는 채팅방의 기록 수를 나타내는 정수 \n",
    "$N$ 이 주어진다. (\n",
    "$1 \\le N \\le 100\\,000$)\n",
    "\n",
    "두 번째 줄부터 \n",
    "$N$ 개의 줄에 걸쳐 새로운 사람의 입장을 나타내는 ENTER, 혹은 채팅을 입력한 유저의 닉네임이 문자열로 주어진다. (문자열길이\n",
    "$1 \\le \\texttt{문자열 길이} \\le 20$)\n",
    "\n",
    "첫 번째 주어지는 문자열은 무조건 ENTER이다.\n",
    "\n",
    "#### 출력\n",
    "---\n",
    "\n",
    "채팅 기록 중 곰곰티콘이 사용된 횟수를 출력하시오."
   ]
  },
  {
   "cell_type": "code",
   "execution_count": null,
   "metadata": {},
   "outputs": [],
   "source": [
    "import sys\n",
    "input = sys.stdin.readline\n",
    "loop = int(input().rstrip())\n",
    "gom = set()\n",
    "res = 0\n",
    "\n",
    "for _ in range(loop):\n",
    "    his = input().rstrip()\n",
    "    if his == \"ENTER\":\n",
    "        res += len(gom)\n",
    "        gom = set()\n",
    "    else:\n",
    "        gom.add(his)\n",
    "\n",
    "res = res + len(gom)\n",
    "print(res)"
   ]
  }
 ],
 "metadata": {
  "language_info": {
   "name": "python"
  }
 },
 "nbformat": 4,
 "nbformat_minor": 2
}
