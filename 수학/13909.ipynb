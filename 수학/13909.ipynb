{
 "cells": [
  {
   "cell_type": "markdown",
   "metadata": {},
   "source": [
    "### 문제\n",
    "---\n",
    "서강대학교 컴퓨터공학과 실습실 R912호에는 현재 N개의 창문이 있고 또 N명의 사람이 있다. 1번째 사람은 1의 배수 번째 창문을 열려 있으면 닫고 닫혀 있으면 연다.  2번째 사람은 2의 배수 번째 창문을 열려 있으면 닫고 닫혀 있으면 연다. 이러한 행동을 N번째 사람까지 진행한 후 열려 있는 창문의 개수를 구하라. 단, 처음에 모든 창문은 닫혀 있다.\n",
    "\n",
    "예를 들어 현재 3개의 창문이 있고 3명의 사람이 있을 때,\n",
    "\n",
    "1번째 사람은 1의 배수인 1,2,3번 창문을 연다. (1, 1, 1)\n",
    "2번째 사람은 2의 배수인 2번 창문을 닫는다. (1, 0, 1)\n",
    "3번째 사람은 3의 배수인 3번 창문을 닫는다. (1, 0, 0)\n",
    "결과적으로 마지막에 열려 있는 창문의 개수는 1개 이다.\n",
    "\n",
    "### 입력\n",
    "---\n",
    "첫 번째 줄에는 창문의 개수와 사람의 수 N(1 ≤ N ≤ 2,100,000,000)이 주어진다.\n",
    "\n",
    "### 출력\n",
    "---\n",
    "마지막에 열려 있는 창문의 개수를 출력한다."
   ]
  },
  {
   "cell_type": "raw",
   "metadata": {
    "vscode": {
     "languageId": "raw"
    }
   },
   "source": [
    "1 = target\n",
    "\n",
    "약수의 개수가 \n",
    "===========\n",
    "홀수이면 1\n",
    "짝수이면 0\n",
    "===========\n",
    "\n",
    "\n",
    "수의 제곱(정사각수) 찾는 문제"
   ]
  },
  {
   "cell_type": "code",
   "execution_count": 1,
   "metadata": {},
   "outputs": [
    {
     "name": "stdout",
     "output_type": "stream",
     "text": [
      "4\n"
     ]
    }
   ],
   "source": [
    "# import sys\n",
    "# input = sys.stdin.readline\n",
    "\n",
    "num = int(input().rstrip())\n",
    "\n",
    "print(int(num ** 0.5))"
   ]
  }
 ],
 "metadata": {
  "kernelspec": {
   "display_name": "Python 3",
   "language": "python",
   "name": "python3"
  },
  "language_info": {
   "codemirror_mode": {
    "name": "ipython",
    "version": 3
   },
   "file_extension": ".py",
   "mimetype": "text/x-python",
   "name": "python",
   "nbconvert_exporter": "python",
   "pygments_lexer": "ipython3",
   "version": "3.7.12"
  }
 },
 "nbformat": 4,
 "nbformat_minor": 2
}
