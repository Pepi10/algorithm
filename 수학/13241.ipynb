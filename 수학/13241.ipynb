{
 "cells": [
  {
   "cell_type": "markdown",
   "metadata": {},
   "source": [
    "### 문제\n",
    "---\n",
    "정수 B에 0보다 큰 정수인 N을 곱해 정수 A를 만들 수 있다면, A는 B의 배수이다.\n",
    "\n",
    "예:\n",
    "\n",
    "10은 5의 배수이다 (5*2 = 10)\n",
    "10은 10의 배수이다(10*1 = 10)\n",
    "6은 1의 배수이다(1*6 = 6)\n",
    "20은 1, 2, 4,5,10,20의 배수이다.\n",
    "다른 예:\n",
    "\n",
    "2와 5의 최소공배수는 10이고, 그 이유는 2와 5보다 작은 공배수가 없기 때문이다.\n",
    "10과 20의 최소공배수는 20이다.\n",
    "5와 3의 최소공배수는 15이다.\n",
    "당신은 두 수에 대하여 최소공배수를 구하는 프로그램을 작성 하는 것이 목표이다.\n",
    "\n",
    "### 입력\n",
    "---\n",
    "한 줄에 두 정수 A와 B가 공백으로 분리되어 주어진다.\n",
    "\n",
    "50%의 입력 중 A와 B는 1000(103)보다 작다. 다른 50%의 입력은 1000보다 크고 100000000(108)보다 작다.\n",
    "\n",
    "추가: 큰 수 입력에 대하여 변수를 64비트 정수로 선언하시오. C/C++에서는 long long int를 사용하고, Java에서는 long을 사용하시오.\n",
    "\n",
    "### 출력\n",
    "---\n",
    "A와 B의 최소공배수를 한 줄에 출력한다."
   ]
  },
  {
   "cell_type": "code",
   "execution_count": 6,
   "metadata": {},
   "outputs": [
    {
     "name": "stdout",
     "output_type": "stream",
     "text": [
      "24079\n"
     ]
    }
   ],
   "source": [
    "import sys\n",
    "input = sys.stdin.readline\n",
    "\n",
    "def gcd(a, b):\n",
    "    while b:\n",
    "        a, b = b, a % b\n",
    "    return a\n",
    "\n",
    "def lcm(a, b):\n",
    "    return a * b // gcd(a, b)\n",
    "\n",
    "A, B = list(map(int, input().rstrip().split()))\n",
    "result = lcm(A, B)\n",
    "print(result)"
   ]
  }
 ],
 "metadata": {
  "kernelspec": {
   "display_name": "base",
   "language": "python",
   "name": "python3"
  },
  "language_info": {
   "codemirror_mode": {
    "name": "ipython",
    "version": 3
   },
   "file_extension": ".py",
   "mimetype": "text/x-python",
   "name": "python",
   "nbconvert_exporter": "python",
   "pygments_lexer": "ipython3",
   "version": "3.11.7"
  }
 },
 "nbformat": 4,
 "nbformat_minor": 2
}
