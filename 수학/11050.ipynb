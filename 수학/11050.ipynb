{
 "cells": [
  {
   "cell_type": "markdown",
   "metadata": {},
   "source": [
    "### 문제\n",
    "---\n",
    "\n",
    "자연수 \n",
    "\\(N\\)과 정수 \n",
    "\\(K\\)가 주어졌을 때 이항 계수 \n",
    "\\(\\binom{N}{K}\\)를 구하는 프로그램을 작성하시오.\n",
    "\n",
    "#### 입력\n",
    "---\n",
    "\n",
    "첫째 줄에 \n",
    "\\(N\\)과 \n",
    "\\(K\\)가 주어진다. (1 ≤ \n",
    "\\(N\\) ≤ 10, 0 ≤ \n",
    "\\(K\\) ≤ \n",
    "\\(N\\))\n",
    "\n",
    "#### 출력\n",
    "---\n",
    " \n",
    "\\(\\binom{N}{K}\\)를 출력한다."
   ]
  },
  {
   "cell_type": "code",
   "execution_count": null,
   "metadata": {},
   "outputs": [],
   "source": [
    "import sys\n",
    "input = sys.stdin.readline\n",
    "\n",
    "def fac(num):\n",
    "    res = 1\n",
    "    for _ in range(1, num + 1):\n",
    "        res *= _\n",
    "    return res\n",
    "\n",
    "n, k = list(map(int, input().rstrip().split()))\n",
    "\n",
    "res = fac(n) / (fac(n - k) * fac(k))\n",
    "print(int(res))"
   ]
  }
 ],
 "metadata": {
  "language_info": {
   "name": "python"
  }
 },
 "nbformat": 4,
 "nbformat_minor": 2
}
