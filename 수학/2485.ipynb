{
 "cells": [
  {
   "cell_type": "markdown",
   "metadata": {},
   "source": [
    "### 문제\n",
    "---\n",
    "직선으로 되어있는 도로의 한 편에 가로수가 임의의 간격으로 심어져있다. KOI 시에서는 가로수들이 모두 같은 간격이 되도록 가로수를 추가로 심는 사업을 추진하고 있다. KOI 시에서는 예산문제로 가능한 한 가장 적은 수의 나무를 심고 싶다.\n",
    "\n",
    "편의상 가로수의 위치는 기준점으로 부터 떨어져 있는 거리로 표현되며, 가로수의 위치는 모두 양의 정수이다.\n",
    "\n",
    "예를 들어, 가로수가 (1, 3, 7, 13)의 위치에 있다면 (5, 9, 11)의 위치에 가로수를 더 심으면 모든 가로수들의 간격이 같게 된다. 또한, 가로수가 (2, 6, 12, 18)에 있다면 (4, 8, 10, 14, 16)에 가로수를 더 심어야 한다.\n",
    "\n",
    "심어져 있는 가로수의 위치가 주어질 때, 모든 가로수가 같은 간격이 되도록 새로 심어야 하는 가로수의 최소수를 구하는 프로그램을 작성하라. 단, 추가되는 나무는 기존의 나무들 사이에만 심을 수 있다.\n",
    "\n",
    "### 입력\n",
    "---\n",
    "첫째 줄에는 이미 심어져 있는 가로수의 수를 나타내는 하나의 정수 N이 주어진다(3 ≤ N ≤ 100,000). 둘째 줄부터 N개의 줄에는 각 줄마다 심어져 있는 가로수의 위치가 양의 정수로 주어지며, 가로수의 위치를 나타내는 정수는 1,000,000,000 이하이다. 가로수의 위치를 나타내는 정수는 모두 다르고, N개의 가로수는 기준점으로부터 떨어진 거리가 가까운 순서대로 주어진다.\n",
    "\n",
    "### 출력\n",
    "---\n",
    "모든 가로수가 같은 간격이 되도록 새로 심어야 하는 가로수의 최소수를 첫 번째 줄에 출력한다."
   ]
  },
  {
   "cell_type": "code",
   "execution_count": 47,
   "metadata": {},
   "outputs": [
    {
     "name": "stdout",
     "output_type": "stream",
     "text": [
      "[4, 6, 6]\n"
     ]
    }
   ],
   "source": [
    "roof = int(input().rstrip())\n",
    "\n",
    "dif_li = []\n",
    "for _ in range(roof):\n",
    "    if _ % 2 == 0:\n",
    "        even_tree = int(input().rstrip())\n",
    "    elif _ % 2 != 0:\n",
    "        odd_tree = int(input().rstrip())\n",
    "    if _ > 0:\n",
    "        dif_li.append(abs(odd_tree - even_tree))\n",
    "\n",
    "print(dif_li)"
   ]
  },
  {
   "cell_type": "code",
   "execution_count": 48,
   "metadata": {},
   "outputs": [],
   "source": [
    "def gcd(a, b):\n",
    "    while b:\n",
    "        a, b = b, a % b\n",
    "    return a\n",
    "\n",
    "def multiple_gcd(list):\n",
    "    _res = list[0]\n",
    "    for _ in range(1, len(list)):\n",
    "        _res = gcd(_res, list[_])\n",
    "    return _res"
   ]
  },
  {
   "cell_type": "code",
   "execution_count": 49,
   "metadata": {},
   "outputs": [
    {
     "name": "stdout",
     "output_type": "stream",
     "text": [
      "5\n"
     ]
    }
   ],
   "source": [
    "res = 0\n",
    "for _ in dif_li:\n",
    "    res += _ // multiple_gcd(dif_li) - 1\n",
    "\n",
    "print(res)"
   ]
  },
  {
   "cell_type": "markdown",
   "metadata": {},
   "source": [
    "### result"
   ]
  },
  {
   "cell_type": "code",
   "execution_count": null,
   "metadata": {},
   "outputs": [],
   "source": [
    "import sys\n",
    "input = sys.stdin.readline\n",
    "\n",
    "def gcd(a, b):\n",
    "    while b:\n",
    "        a, b = b, a % b\n",
    "    return a\n",
    "\n",
    "def multiple_gcd(list):\n",
    "    _res = list[0]\n",
    "    for _ in range(1, len(list)):\n",
    "        _res = gcd(_res, list[_])\n",
    "    return _res\n",
    "\n",
    "roof = int(input().rstrip())\n",
    "\n",
    "dif_li = []\n",
    "for _ in range(roof):\n",
    "    if _ % 2 == 0:\n",
    "        even_tree = int(input().rstrip())\n",
    "    elif _ % 2 != 0:\n",
    "        odd_tree = int(input().rstrip())\n",
    "    if _ > 0:\n",
    "        dif_li.append(abs(odd_tree - even_tree))\n",
    "\n",
    "res = 0\n",
    "for _ in dif_li:\n",
    "    res += _ // multiple_gcd(dif_li) - 1\n",
    "\n",
    "print(res)"
   ]
  },
  {
   "cell_type": "markdown",
   "metadata": {},
   "source": [
    "### 시간초과"
   ]
  },
  {
   "cell_type": "code",
   "execution_count": null,
   "metadata": {},
   "outputs": [],
   "source": [
    "def gcd(a, b):\n",
    "    while b:\n",
    "        a, b = b, a % b\n",
    "    return a\n",
    "\n",
    "def multiple_gcd(list):\n",
    "    _res = list[0]\n",
    "    for _ in range(1, len(list)):\n",
    "        _res = gcd(_res, list[_])\n",
    "    return _res\n",
    "\n",
    "roof = int(input().rstrip())\n",
    "\n",
    "# 아마 이부분? #\n",
    "####################################################\n",
    "dif_li = []\n",
    "for _ in range(roof):\n",
    "    if _ % 2 == 0:\n",
    "        even_tree = int(input().rstrip())\n",
    "    elif _ % 2 != 0:                                    \n",
    "        odd_tree = int(input().rstrip())\n",
    "    if _ > 0:\n",
    "        dif_li.append(abs(odd_tree - even_tree))\n",
    "#####################################################\n",
    "\n",
    "res = 0\n",
    "for _ in dif_li:\n",
    "    res += _ // multiple_gcd(dif_li) - 1\n",
    "\n",
    "print(res)"
   ]
  },
  {
   "cell_type": "code",
   "execution_count": 53,
   "metadata": {},
   "outputs": [],
   "source": [
    "num = 1, 3, 7, 13"
   ]
  },
  {
   "cell_type": "code",
   "execution_count": 76,
   "metadata": {},
   "outputs": [],
   "source": [
    "def gcd(a, b):\n",
    "    while b:\n",
    "        a, b = b, a % b\n",
    "    return a"
   ]
  },
  {
   "cell_type": "code",
   "execution_count": 30,
   "metadata": {},
   "outputs": [],
   "source": [
    "roof = 4"
   ]
  },
  {
   "cell_type": "code",
   "execution_count": 42,
   "metadata": {},
   "outputs": [],
   "source": [
    "#######################################\n",
    "dif = [0, 0]\n",
    "tree = int(input().rstrip())\n",
    "min_tree = tree\n",
    "for _ in range(roof -1):\n",
    "    temp_tree = int(input().rstrip())\n",
    "    dif[_ % 2] = abs(tree - temp_tree)\n",
    "    tree = temp_tree\n",
    "    if 0 not in dif:\n",
    "        dif[_ % 2] = gcd(dif[0], dif[1])\n",
    "    entire_gcd = gcd(dif[0], dif[1])\n",
    "    max_tree = tree\n",
    "#######################################"
   ]
  },
  {
   "cell_type": "code",
   "execution_count": 39,
   "metadata": {},
   "outputs": [],
   "source": [
    "def count_values(a, b, c):\n",
    "    _len = b - a\n",
    "    _inter = _len // c\n",
    "    _res = _inter + 1"
   ]
  },
  {
   "cell_type": "code",
   "execution_count": 43,
   "metadata": {},
   "outputs": [
    {
     "data": {
      "text/plain": [
       "5"
      ]
     },
     "execution_count": 43,
     "metadata": {},
     "output_type": "execute_result"
    }
   ],
   "source": [
    "count_values(min_tree, max_tree, entire_gcd) - roof"
   ]
  },
  {
   "cell_type": "raw",
   "metadata": {
    "vscode": {
     "languageId": "raw"
    }
   },
   "source": [
    "1 7 13 19 25 31 37 43 49"
   ]
  },
  {
   "cell_type": "raw",
   "metadata": {
    "vscode": {
     "languageId": "raw"
    }
   },
   "source": [
    "1 7 31 49"
   ]
  },
  {
   "cell_type": "markdown",
   "metadata": {},
   "source": [
    "### Result 2"
   ]
  },
  {
   "cell_type": "code",
   "execution_count": 45,
   "metadata": {},
   "outputs": [
    {
     "name": "stdout",
     "output_type": "stream",
     "text": [
      "3\n"
     ]
    }
   ],
   "source": [
    "import sys\n",
    "input = sys.stdin.readline\n",
    "\n",
    "def gcd(a, b):\n",
    "    while b:\n",
    "        a, b = b, a % b\n",
    "    return a\n",
    "\n",
    "roof = int(input().rstrip())\n",
    "\n",
    "dif = [0, 0]\n",
    "tree = int(input().rstrip())\n",
    "min_tree = tree\n",
    "for _ in range(roof -1):\n",
    "    temp_tree = int(input().rstrip())\n",
    "    dif[_ % 2] = abs(tree - temp_tree)\n",
    "    tree = temp_tree\n",
    "    if 0 not in dif:\n",
    "        dif[_ % 2] = gcd(dif[0], dif[1])\n",
    "    entire_gcd = gcd(dif[0], dif[1])\n",
    "    max_tree = tree\n",
    "\n",
    "def count_values(a, b, c):\n",
    "    _len = b - a\n",
    "    _inter = _len // c\n",
    "    _res = _inter + 1\n",
    "    \n",
    "    return _res\n",
    "res = count_values(min_tree, max_tree, entire_gcd) - roof\n",
    "print(res)"
   ]
  }
 ],
 "metadata": {
  "kernelspec": {
   "display_name": "pepi10",
   "language": "python",
   "name": "python3"
  },
  "language_info": {
   "codemirror_mode": {
    "name": "ipython",
    "version": 3
   },
   "file_extension": ".py",
   "mimetype": "text/x-python",
   "name": "python",
   "nbconvert_exporter": "python",
   "pygments_lexer": "ipython3",
   "version": "3.7.12"
  }
 },
 "nbformat": 4,
 "nbformat_minor": 2
}
