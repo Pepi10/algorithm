{
 "cells": [
  {
   "cell_type": "code",
   "execution_count": 1,
   "metadata": {},
   "outputs": [
    {
     "name": "stdout",
     "output_type": "stream",
     "text": [
      "Hello world\n"
     ]
    }
   ],
   "source": [
    "print(\"Hello world\")"
   ]
  },
  {
   "cell_type": "code",
   "execution_count": null,
   "metadata": {
    "vscode": {
     "languageId": "sql"
    }
   },
   "outputs": [],
   "source": [
    "26 5\n",
    "Bulbasaur\n",
    "Ivysaur\n",
    "Venusaur\n",
    "Charmander\n",
    "Charmeleon\n",
    "Charizard\n",
    "Squirtle\n",
    "Wartortle\n",
    "Blastoise\n",
    "Caterpie\n",
    "Metapod\n",
    "Butterfree\n",
    "Weedle\n",
    "Kakuna\n",
    "Beedrill\n",
    "Pidgey\n",
    "Pidgeotto\n",
    "Pidgeot\n",
    "Rattata\n",
    "Raticate\n",
    "Spearow\n",
    "Fearow\n",
    "Ekans\n",
    "Arbok\n",
    "Pikachu\n",
    "Raichu\n",
    "25\n",
    "Raichu\n",
    "3\n",
    "Pidgey\n",
    "Kakuna"
   ]
  },
  {
   "cell_type": "code",
   "execution_count": 13,
   "metadata": {},
   "outputs": [],
   "source": [
    "# import sys\n",
    "# input = sys.stdin.readline\n",
    "\n",
    "N, M = list(map(int, input().split()))\n",
    "\n",
    "ency = dict()\n",
    "ycne = dict()\n",
    "for _ in range(N):\n",
    "    poket = input()\n",
    "    ency[poket] = str(_ + 1)\n",
    "    ycne[str(_ + 1)] = poket"
   ]
  },
  {
   "cell_type": "code",
   "execution_count": 16,
   "metadata": {},
   "outputs": [
    {
     "data": {
      "text/plain": [
       "'Pikachu'"
      ]
     },
     "execution_count": 16,
     "metadata": {},
     "output_type": "execute_result"
    }
   ],
   "source": [
    "ycne['25']"
   ]
  },
  {
   "cell_type": "code",
   "execution_count": 19,
   "metadata": {},
   "outputs": [
    {
     "data": {
      "text/plain": [
       "'Pikachu'"
      ]
     },
     "execution_count": 19,
     "metadata": {},
     "output_type": "execute_result"
    }
   ],
   "source": [
    "ycne[poket]"
   ]
  },
  {
   "cell_type": "code",
   "execution_count": 20,
   "metadata": {},
   "outputs": [
    {
     "name": "stdout",
     "output_type": "stream",
     "text": [
      "Pikachu\n",
      "26\n",
      "Venusaur\n",
      "16\n",
      "14\n"
     ]
    }
   ],
   "source": [
    "for val in range(M):\n",
    "    poket = input()\n",
    "    try:\n",
    "        print(ency[poket])\n",
    "    except:\n",
    "        print(ycne[poket])"
   ]
  },
  {
   "cell_type": "code",
   "execution_count": 11,
   "metadata": {},
   "outputs": [
    {
     "name": "stdout",
     "output_type": "stream",
     "text": [
      "25\n"
     ]
    }
   ],
   "source": [
    "ency[\"Pikachu\"]"
   ]
  },
  {
   "cell_type": "code",
   "execution_count": null,
   "metadata": {},
   "outputs": [],
   "source": [
    "import sys\n",
    "input = sys.stdin.readline\n",
    "\n",
    "N, M = list(map(int, input().split()))\n",
    "\n",
    "ency = dict()\n",
    "ycne = dict()\n",
    "for _ in range(N):\n",
    "    poket = input().rstrip()\n",
    "    ency[poket] = str(_ + 1)\n",
    "    ycne[str(_ + 1)] = poket\n",
    "\n",
    "for val in range(M):\n",
    "    poket = input().rstrip()\n",
    "    try:\n",
    "        print(ency[poket])\n",
    "    except:\n",
    "        print(ycne[poket])"
   ]
  }
 ],
 "metadata": {
  "kernelspec": {
   "display_name": "pepi10",
   "language": "python",
   "name": "python3"
  },
  "language_info": {
   "codemirror_mode": {
    "name": "ipython",
    "version": 3
   },
   "file_extension": ".py",
   "mimetype": "text/x-python",
   "name": "python",
   "nbconvert_exporter": "python",
   "pygments_lexer": "ipython3",
   "version": "3.7.12"
  }
 },
 "nbformat": 4,
 "nbformat_minor": 2
}
