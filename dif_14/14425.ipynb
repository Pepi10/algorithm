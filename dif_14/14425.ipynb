{
 "cells": [
  {
   "cell_type": "code",
   "execution_count": 3,
   "metadata": {},
   "outputs": [],
   "source": [
    "s_roof, test_roof = [5, 11]\n",
    "s_set = [\"baekjoononlinejudge\", \"startlink\", \"codeplus\", \"sundaycoding\", \"codingsh\"]\n",
    "test_set = [\"baekjoon\",\n",
    "            \"codeplus\",\n",
    "            \"codeminus\",\n",
    "            \"startlink\",\n",
    "            \"starlink\",\n",
    "            \"sundaycoding\",\n",
    "            \"codingsh\",\n",
    "            \"codinghs\",\n",
    "            \"sondaycoding\",\n",
    "            \"startrink\",\n",
    "            \"icerink\"]"
   ]
  },
  {
   "cell_type": "code",
   "execution_count": null,
   "metadata": {},
   "outputs": [],
   "source": [
    "import sys\n",
    "s_roof, test_roof = list(map(int, sys.stdin.readline().rstrip().split(' ')))"
   ]
  },
  {
   "cell_type": "code",
   "execution_count": 1,
   "metadata": {},
   "outputs": [],
   "source": [
    "s_roof, test_roof = list(map(int, input().split()))\n",
    "\n",
    "s_set = list()\n",
    "test_set = list()\n",
    "for _ in range(s_roof):\n",
    "    s_set.append(input())\n",
    "for _ in range(test_roof):\n",
    "    test_set.append(input())\n"
   ]
  },
  {
   "cell_type": "code",
   "execution_count": 6,
   "metadata": {},
   "outputs": [
    {
     "name": "stdout",
     "output_type": "stream",
     "text": [
      "['baekjoononlinejudge', 'startlink', 'codeplus', 'sundaycoding', 'codingsh']\n",
      "['baekjoon', 'codeplus', 'codeminus', 'startlink', 'starlink', 'sundaycoding', 'codingsh', 'codinghs', 'sondaycoding', 'startrink', 'icerink']\n"
     ]
    }
   ],
   "source": [
    "print(f\"{s_set}\\n{test_set}\")"
   ]
  },
  {
   "cell_type": "code",
   "execution_count": 13,
   "metadata": {},
   "outputs": [
    {
     "name": "stdout",
     "output_type": "stream",
     "text": [
      "check\n"
     ]
    }
   ],
   "source": [
    "base_li = s_set\n",
    "base_li.sort()\n",
    "target = 'codingsh'\n",
    "\n",
    "l, r = 0, len(base_li) - 1\n",
    "while l <= r:\n",
    "    center = (l + r) // 2\n",
    "    if base_li[center] == target:\n",
    "        print('check')\n",
    "        break\n",
    "    elif base_li[center] < target:\n",
    "        l = center + 1\n",
    "    else:\n",
    "        r = center - 1"
   ]
  },
  {
   "cell_type": "code",
   "execution_count": 27,
   "metadata": {},
   "outputs": [],
   "source": [
    "def selection(list, target):\n",
    "    list.sort()\n",
    "    l, r = 0, len(list) - 1\n",
    "    while l <= r:\n",
    "        center = (l + r) // 2\n",
    "        if list[center] == target:\n",
    "            return True\n",
    "        elif list[center] < target:\n",
    "            l = center + 1\n",
    "        else:\n",
    "            r = center - 1\n",
    "    return False"
   ]
  },
  {
   "cell_type": "code",
   "execution_count": 28,
   "metadata": {},
   "outputs": [
    {
     "data": {
      "text/plain": [
       "1"
      ]
     },
     "execution_count": 28,
     "metadata": {},
     "output_type": "execute_result"
    }
   ],
   "source": [
    "selection(s_set, \"startlink\")"
   ]
  },
  {
   "cell_type": "code",
   "execution_count": 29,
   "metadata": {},
   "outputs": [
    {
     "data": {
      "text/plain": [
       "['baekjoononlinejudge', 'codeplus', 'codingsh', 'startlink', 'sundaycoding']"
      ]
     },
     "execution_count": 29,
     "metadata": {},
     "output_type": "execute_result"
    }
   ],
   "source": [
    "s_set"
   ]
  },
  {
   "cell_type": "code",
   "execution_count": 31,
   "metadata": {},
   "outputs": [
    {
     "name": "stdout",
     "output_type": "stream",
     "text": [
      "4\n"
     ]
    }
   ],
   "source": [
    "i = 0\n",
    "for val in test_set:\n",
    "    if selection(s_set, val) == 1:\n",
    "        i += selection(s_set, val)\n",
    "    \n",
    "print(i)"
   ]
  },
  {
   "cell_type": "code",
   "execution_count": 32,
   "metadata": {},
   "outputs": [
    {
     "name": "stdout",
     "output_type": "stream",
     "text": [
      "4\n"
     ]
    }
   ],
   "source": [
    "s_roof, test_roof = list(map(int, input().split()))\n",
    "\n",
    "s_set = list()\n",
    "test_set = list()\n",
    "for _ in range(s_roof):\n",
    "    s_set.append(input())\n",
    "for _ in range(test_roof):\n",
    "    test_set.append(input())\n",
    "\n",
    "def selection(list, target):\n",
    "    list.sort()\n",
    "    l, r = 0, len(list) - 1\n",
    "    while l <= r:\n",
    "        center = (l + r) // 2\n",
    "        if list[center] == target:\n",
    "            return True\n",
    "        elif list[center] < target:\n",
    "            l = center + 1\n",
    "        else:\n",
    "            r = center - 1\n",
    "    return False\n",
    "\n",
    "res = 0\n",
    "for val in test_set:\n",
    "    if selection(s_set, val):\n",
    "        res += selection(s_set, val)\n",
    "    \n",
    "print(res)"
   ]
  },
  {
   "cell_type": "code",
   "execution_count": null,
   "metadata": {},
   "outputs": [],
   "source": [
    "import sys\n",
    "s_set, test_set = list(map(int, sys.stdin.readline().rstrip().split(' ')))\n",
    "\n",
    "s_set = list()\n",
    "test_set = list()\n",
    "for _ in range(s_roof):\n",
    "    s_set.append(sys.stdin.readline().rstrip())\n",
    "for _ in range(test_roof):\n",
    "    test_set.append(sys.stdin.readline().rstrip())\n",
    "\n",
    "def selection(list, target):\n",
    "    list.sort()\n",
    "    l, r = 0, len(list) - 1\n",
    "    while l <= r:\n",
    "        center = (l + r) // 2\n",
    "        if list[center] == target:\n",
    "            return True\n",
    "        elif list[center] < target:\n",
    "            l = center + 1\n",
    "        else:\n",
    "            r = center - 1\n",
    "    return False\n",
    "\n",
    "res = 0\n",
    "for val in test_set:\n",
    "    if selection(s_set, val):\n",
    "        res += selection(s_set, val)\n",
    "    \n",
    "print(res)"
   ]
  },
  {
   "cell_type": "code",
   "execution_count": 9,
   "metadata": {},
   "outputs": [
    {
     "name": "stdout",
     "output_type": "stream",
     "text": [
      "4\n",
      "0.00099945068359375\n"
     ]
    }
   ],
   "source": [
    "import time\n",
    "\n",
    "start_time = time.time()\n",
    "def selection(list, target):\n",
    "    list.sort()\n",
    "    l, r = 0, len(list) - 1\n",
    "    while l <= r:\n",
    "        center = (l + r) // 2\n",
    "        if list[center] == target:\n",
    "            return True\n",
    "        elif list[center] < target:\n",
    "            l = center + 1\n",
    "        else:\n",
    "            r = center - 1\n",
    "    return False\n",
    "\n",
    "res = 0\n",
    "for val in test_set:\n",
    "    if selection(s_set, val):\n",
    "        res += selection(s_set, val)\n",
    "    \n",
    "print(res)\n",
    "print(time.time() - start_time)"
   ]
  },
  {
   "cell_type": "code",
   "execution_count": 13,
   "metadata": {},
   "outputs": [
    {
     "name": "stdout",
     "output_type": "stream",
     "text": [
      "4\n",
      "0.0006909370422363281\n"
     ]
    }
   ],
   "source": [
    "import time\n",
    "\n",
    "start_time = time.time()\n",
    "def selection(list, target):\n",
    "    list.sort()\n",
    "    l, r = 0, len(list) - 1\n",
    "    while l <= r:\n",
    "        center = (l + r) // 2\n",
    "        if list[center] == target:\n",
    "            return True\n",
    "        elif list[center] < target:\n",
    "            l = center + 1\n",
    "        else:\n",
    "            r = center - 1\n",
    "    return False\n",
    "\n",
    "res = [0] * test_roof\n",
    "for ind, val in enumerate(test_set):\n",
    "    if selection(s_set, val):\n",
    "        res[ind] = 1\n",
    "\n",
    "print(sum(res))\n",
    "print(time.time() - start_time)"
   ]
  },
  {
   "cell_type": "code",
   "execution_count": 14,
   "metadata": {},
   "outputs": [],
   "source": [
    "import sys\n",
    "\n",
    "s_roof, test_roof = list(map(int, sys.stdin.readline().rstrip().split(' ')))\n",
    "\n",
    "s_set = [0] * s_roof\n",
    "test_set = [0] * test_roof\n",
    "for _ in range(s_roof):\n",
    "    s_set[_] = sys.stdin.readline().rstrip()\n",
    "for _ in range(test_roof):\n",
    "    test_set[_] = sys.stdin.readline().rstrip()\n",
    "\n",
    "def selection(list, target):\n",
    "    list.sort()\n",
    "    l, r = 0, len(list) - 1\n",
    "    while l <= r:\n",
    "        center = (l + r) // 2\n",
    "        if list[center] == target:\n",
    "            return True\n",
    "        elif list[center] < target:\n",
    "            l = center + 1\n",
    "        else:\n",
    "            r = center - 1\n",
    "    return False\n",
    "\n",
    "res = [0] * test_roof\n",
    "for ind, val in enumerate(test_set):\n",
    "    if selection(s_set, val):\n",
    "        res[ind] = 1\n",
    "\n",
    "print(sum(res))"
   ]
  }
 ],
 "metadata": {
  "kernelspec": {
   "display_name": "kdt7",
   "language": "python",
   "name": "python3"
  },
  "language_info": {
   "codemirror_mode": {
    "name": "ipython",
    "version": 3
   },
   "file_extension": ".py",
   "mimetype": "text/x-python",
   "name": "python",
   "nbconvert_exporter": "python",
   "pygments_lexer": "ipython3",
   "version": "3.11.5"
  }
 },
 "nbformat": 4,
 "nbformat_minor": 2
}
