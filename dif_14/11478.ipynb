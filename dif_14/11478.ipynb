{
 "cells": [
  {
   "cell_type": "code",
   "execution_count": 1,
   "metadata": {},
   "outputs": [],
   "source": [
    "alp = input()"
   ]
  },
  {
   "cell_type": "code",
   "execution_count": 2,
   "metadata": {},
   "outputs": [
    {
     "data": {
      "text/plain": [
       "'ababc'"
      ]
     },
     "execution_count": 2,
     "metadata": {},
     "output_type": "execute_result"
    }
   ],
   "source": [
    "alp"
   ]
  },
  {
   "cell_type": "code",
   "execution_count": 3,
   "metadata": {},
   "outputs": [
    {
     "data": {
      "text/plain": [
       "5"
      ]
     },
     "execution_count": 3,
     "metadata": {},
     "output_type": "execute_result"
    }
   ],
   "source": [
    "len(alp)"
   ]
  },
  {
   "cell_type": "code",
   "execution_count": 25,
   "metadata": {},
   "outputs": [
    {
     "data": {
      "text/plain": [
       "('ab', 'ba', 'ab', 'bc')"
      ]
     },
     "execution_count": 25,
     "metadata": {},
     "output_type": "execute_result"
    }
   ],
   "source": [
    "alp[0 : 2], alp[1 : 3], alp[2 : 4], alp[3 : 5]"
   ]
  },
  {
   "cell_type": "code",
   "execution_count": 27,
   "metadata": {},
   "outputs": [
    {
     "name": "stdout",
     "output_type": "stream",
     "text": [
      "a\n",
      "b\n",
      "a\n",
      "b\n",
      "c\n",
      "ab\n",
      "ba\n",
      "ab\n",
      "bc\n",
      "aba\n",
      "bab\n",
      "abc\n",
      "abab\n",
      "babc\n",
      "ababc\n",
      "12\n"
     ]
    }
   ],
   "source": [
    "res = set()\n",
    "\n",
    "tri = 0\n",
    "for __ in range(len(alp)):\n",
    "    tri += 1\n",
    "    for _ in range(len(alp)):\n",
    "        res.add(alp[_:_ + tri])\n",
    "        print(alp[_:_ + tri])\n",
    "        if _ + tri == len(alp):\n",
    "            break\n",
    "print(len(res))"
   ]
  },
  {
   "cell_type": "code",
   "execution_count": null,
   "metadata": {},
   "outputs": [],
   "source": [
    "import sys\n",
    "input = sys.stdin.readline\n",
    "alp = input().rstrip()\n",
    "res = set()\n",
    "tri = 0\n",
    "for __ in range(len(alp)):\n",
    "    tri += 1\n",
    "    for _ in range(len(alp)):\n",
    "        res.add(alp[_:_ + tri])\n",
    "        if _ + tri == len(alp):\n",
    "            break\n",
    "print(len(res))"
   ]
  }
 ],
 "metadata": {
  "kernelspec": {
   "display_name": "pepi10",
   "language": "python",
   "name": "python3"
  },
  "language_info": {
   "codemirror_mode": {
    "name": "ipython",
    "version": 3
   },
   "file_extension": ".py",
   "mimetype": "text/x-python",
   "name": "python",
   "nbconvert_exporter": "python",
   "pygments_lexer": "ipython3",
   "version": "3.7.12"
  }
 },
 "nbformat": 4,
 "nbformat_minor": 2
}
