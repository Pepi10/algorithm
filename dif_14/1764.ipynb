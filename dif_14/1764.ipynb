{
 "cells": [
  {
   "cell_type": "code",
   "execution_count": 1,
   "metadata": {},
   "outputs": [
    {
     "name": "stdout",
     "output_type": "stream",
     "text": [
      "Hello World\n"
     ]
    }
   ],
   "source": [
    "print(\"Hello World\")"
   ]
  },
  {
   "cell_type": "code",
   "execution_count": 4,
   "metadata": {},
   "outputs": [],
   "source": [
    "N, M = list(map(int, input().rstrip().split()))\n",
    "\n",
    "n_li = [0] * N\n",
    "m_li = [0] * M\n",
    "for _ in range(N):\n",
    "    n_li[_] = input().rstrip()\n",
    "\n",
    "for _ in range(M):\n",
    "    m_li[_] = input().rstrip()\n",
    "\n",
    "n_set, m_set = set(n_li), set(m_li)"
   ]
  },
  {
   "cell_type": "code",
   "execution_count": 18,
   "metadata": {},
   "outputs": [
    {
     "data": {
      "text/plain": [
       "{'baesangwook', 'ohhenrie'}"
      ]
     },
     "execution_count": 18,
     "metadata": {},
     "output_type": "execute_result"
    }
   ],
   "source": [
    "### n_set - 중복아님 = 중복 ###\n",
    "n_set - (n_set - m_set)"
   ]
  },
  {
   "cell_type": "code",
   "execution_count": 25,
   "metadata": {},
   "outputs": [],
   "source": [
    "### m_set - 중복아님 = 중복 ###\n",
    "dupl = m_set - (m_set - n_set)"
   ]
  },
  {
   "cell_type": "code",
   "execution_count": 28,
   "metadata": {},
   "outputs": [
    {
     "data": {
      "text/plain": [
       "{'baesangwook', 'ohhenrie'}"
      ]
     },
     "execution_count": 28,
     "metadata": {},
     "output_type": "execute_result"
    }
   ],
   "source": [
    "dupl"
   ]
  },
  {
   "cell_type": "code",
   "execution_count": 32,
   "metadata": {},
   "outputs": [
    {
     "name": "stdout",
     "output_type": "stream",
     "text": [
      "2\n",
      "baesangwook\n",
      "ohhenrie\n"
     ]
    }
   ],
   "source": [
    "print(len(dupl))\n",
    "\n",
    "for val in sorted(dupl):\n",
    "    print(val)"
   ]
  },
  {
   "cell_type": "code",
   "execution_count": 33,
   "metadata": {},
   "outputs": [
    {
     "name": "stdout",
     "output_type": "stream",
     "text": [
      "2\n",
      "baesangwook\n",
      "ohhenrie\n"
     ]
    }
   ],
   "source": [
    "N, M = list(map(int, input().rstrip().split()))\n",
    "\n",
    "n_li = [0] * N\n",
    "m_li = [0] * M\n",
    "for _ in range(N):\n",
    "    n_li[_] = input().rstrip()\n",
    "\n",
    "for _ in range(M):\n",
    "    m_li[_] = input().rstrip()\n",
    "\n",
    "n_set, m_set = set(n_li), set(m_li)\n",
    "dupl = m_set - (m_set - n_set)\n",
    "\n",
    "print(len(dupl))\n",
    "for val in sorted(dupl):\n",
    "    print(val)"
   ]
  },
  {
   "cell_type": "code",
   "execution_count": null,
   "metadata": {},
   "outputs": [],
   "source": [
    "import sys\n",
    "input = sys.stdin.readline\n",
    "\n",
    "N, M = list(map(int, input().rstrip().split()))\n",
    "\n",
    "n_li = [0] * N\n",
    "m_li = [0] * M\n",
    "for _ in range(N):\n",
    "    n_li[_] = input().rstrip()\n",
    "\n",
    "for _ in range(M):\n",
    "    m_li[_] = input().rstrip()\n",
    "\n",
    "n_set, m_set = set(n_li), set(m_li)\n",
    "dupl = m_set - (m_set - n_set)\n",
    "\n",
    "print(len(dupl))\n",
    "for val in sorted(dupl):\n",
    "    print(val)"
   ]
  }
 ],
 "metadata": {
  "kernelspec": {
   "display_name": "pepi10",
   "language": "python",
   "name": "python3"
  },
  "language_info": {
   "codemirror_mode": {
    "name": "ipython",
    "version": 3
   },
   "file_extension": ".py",
   "mimetype": "text/x-python",
   "name": "python",
   "nbconvert_exporter": "python",
   "pygments_lexer": "ipython3",
   "version": "3.7.12"
  }
 },
 "nbformat": 4,
 "nbformat_minor": 2
}
