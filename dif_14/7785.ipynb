{
 "cells": [
  {
   "cell_type": "code",
   "execution_count": 1,
   "metadata": {},
   "outputs": [
    {
     "data": {
      "text/plain": [
       "{0: ['Baha'], 1: ['Baha', 'Askar', 'Artem']}"
      ]
     },
     "execution_count": 1,
     "metadata": {},
     "output_type": "execute_result"
    }
   ],
   "source": [
    "roof = 4\n",
    "\n",
    "enter = {0: [], 1: []}\n",
    "for _ in range(roof):\n",
    "    name, stat = list(input().split())\n",
    "    if stat == \"enter\":\n",
    "        enter[1] += [name]\n",
    "    else:\n",
    "        enter[0] += [name]\n",
    "\n",
    "enter"
   ]
  },
  {
   "cell_type": "code",
   "execution_count": 18,
   "metadata": {},
   "outputs": [],
   "source": [
    "def search(list, target):\n",
    "    l, r = 0, len(list) - 1\n",
    "    while l <= r:\n",
    "        center = (l + r) // 2\n",
    "        if list[center] == target:\n",
    "            return True\n",
    "        elif list[center] < target:\n",
    "            l = center + 1\n",
    "        else:\n",
    "            r = center - 1\n",
    "    return False"
   ]
  },
  {
   "cell_type": "code",
   "execution_count": 19,
   "metadata": {},
   "outputs": [
    {
     "data": {
      "text/plain": [
       "False"
      ]
     },
     "execution_count": 19,
     "metadata": {},
     "output_type": "execute_result"
    }
   ],
   "source": [
    "search(enter[0], \"Askar\")"
   ]
  },
  {
   "cell_type": "code",
   "execution_count": 20,
   "metadata": {},
   "outputs": [
    {
     "name": "stdout",
     "output_type": "stream",
     "text": [
      "Askar\n",
      "Artem\n"
     ]
    }
   ],
   "source": [
    "for val in enter[1]:\n",
    "    if search(enter[0], val) == False:\n",
    "        print(val)"
   ]
  },
  {
   "cell_type": "code",
   "execution_count": 22,
   "metadata": {},
   "outputs": [
    {
     "name": "stdout",
     "output_type": "stream",
     "text": [
      "Askar\n",
      "Artem\n"
     ]
    }
   ],
   "source": [
    "def search(list, target):\n",
    "    l, r = 0, len(list) - 1\n",
    "    while l <= r:\n",
    "        center = (l + r) // 2\n",
    "        if list[center] == target:\n",
    "            return True\n",
    "        elif list[center] < target:\n",
    "            l = center + 1\n",
    "        else:\n",
    "            r = center - 1\n",
    "    return False\n",
    "\n",
    "roof = int(input())\n",
    "\n",
    "enter = {0: [], 1: []}\n",
    "for _ in range(roof):\n",
    "    name, stat = list(input().split())\n",
    "    if stat == \"enter\":\n",
    "        enter[1] += [name]\n",
    "    else:\n",
    "        enter[0] += [name]\n",
    "\n",
    "for val in enter[1]:\n",
    "    if search(enter[0], val) == False:\n",
    "        print(val)"
   ]
  },
  {
   "cell_type": "code",
   "execution_count": 2,
   "metadata": {},
   "outputs": [
    {
     "name": "stdout",
     "output_type": "stream",
     "text": [
      "y\n",
      "b\n",
      "a\n"
     ]
    }
   ],
   "source": [
    "def search(list, target):\n",
    "    l, r = 0, len(list) - 1\n",
    "    while l <= r:\n",
    "        center = (l + r) // 2\n",
    "        if list[center] == target:\n",
    "            return True\n",
    "        elif list[center] < target:\n",
    "            l = center + 1\n",
    "        else:\n",
    "            r = center - 1\n",
    "    return False\n",
    "\n",
    "roof = int(input())\n",
    "\n",
    "enter = {0: [], 1: []}\n",
    "for _ in range(roof):\n",
    "    name, stat = list(input().split())\n",
    "    if stat == \"enter\":\n",
    "        enter[1] += [name]\n",
    "    else:\n",
    "        enter[0] += [name]\n",
    "\n",
    "for val in sorted(enter[1])[::-1]:\n",
    "    if search(enter[0], val) == False:\n",
    "        print(val)"
   ]
  },
  {
   "cell_type": "code",
   "execution_count": 10,
   "metadata": {},
   "outputs": [
    {
     "name": "stdout",
     "output_type": "stream",
     "text": [
      "Askar\n",
      "Artem\n"
     ]
    }
   ],
   "source": [
    "import sys\n",
    "input = sys.stdin.readline\n",
    "\n",
    "roof = int(input())\n",
    "emp = {}\n",
    "for i in range(roof):\n",
    "    name, stat = input().split()\n",
    "    emp[name] = stat\n",
    "\n",
    "for name, stat in sorted(emp.items(), reverse = True):\n",
    "    if stat == \"enter\":\n",
    "        print(name)"
   ]
  }
 ],
 "metadata": {
  "kernelspec": {
   "display_name": "base",
   "language": "python",
   "name": "python3"
  },
  "language_info": {
   "codemirror_mode": {
    "name": "ipython",
    "version": 3
   },
   "file_extension": ".py",
   "mimetype": "text/x-python",
   "name": "python",
   "nbconvert_exporter": "python",
   "pygments_lexer": "ipython3",
   "version": "3.7.12"
  }
 },
 "nbformat": 4,
 "nbformat_minor": 2
}
