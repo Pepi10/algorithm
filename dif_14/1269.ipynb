{
 "cells": [
  {
   "cell_type": "code",
   "execution_count": 1,
   "metadata": {},
   "outputs": [
    {
     "name": "stdout",
     "output_type": "stream",
     "text": [
      "Hello World\n"
     ]
    }
   ],
   "source": [
    "print(\"Hello World\")"
   ]
  },
  {
   "cell_type": "markdown",
   "metadata": {},
   "source": [
    "3 5\n",
    "1 2 4\n",
    "2 3 4 5 6"
   ]
  },
  {
   "cell_type": "code",
   "execution_count": 4,
   "metadata": {},
   "outputs": [
    {
     "name": "stdout",
     "output_type": "stream",
     "text": [
      "{1, 2, 4} {2, 3, 4, 5, 6}\n",
      "{1} {3, 5, 6}\n",
      "4\n"
     ]
    }
   ],
   "source": [
    "A, B = list(map(int, input().rstrip().split()))\n",
    "a_li = list(map(int, input().rstrip().split()))\n",
    "b_li = list(map(int, input().rstrip().split()))\n",
    "\n",
    "a_set, b_set = set(a_li), set(b_li)\n",
    "\n",
    "res_1 = (a_set - b_set) \n",
    "res_2 = (b_set - a_set)\n",
    "print(a_set, b_set)\n",
    "print(res_1, res_2)\n",
    "print(len(res_1) + len(res_2))"
   ]
  },
  {
   "cell_type": "code",
   "execution_count": null,
   "metadata": {},
   "outputs": [],
   "source": [
    "import sys\n",
    "input = sys.stdin.readline\n",
    "\n",
    "A, B = list(map(int, input().rstrip().split()))\n",
    "a_li = list(map(int, input().rstrip().split()))\n",
    "b_li = list(map(int, input().rstrip().split()))\n",
    "\n",
    "a_set, b_set = set(a_li), set(b_li)\n",
    "res_1 = (a_set - b_set) \n",
    "res_2 = (b_set - a_set)\n",
    "\n",
    "print(len(res_1) + len(res_2))"
   ]
  }
 ],
 "metadata": {
  "kernelspec": {
   "display_name": "pepi10",
   "language": "python",
   "name": "python3"
  },
  "language_info": {
   "codemirror_mode": {
    "name": "ipython",
    "version": 3
   },
   "file_extension": ".py",
   "mimetype": "text/x-python",
   "name": "python",
   "nbconvert_exporter": "python",
   "pygments_lexer": "ipython3",
   "version": "3.7.12"
  }
 },
 "nbformat": 4,
 "nbformat_minor": 2
}
