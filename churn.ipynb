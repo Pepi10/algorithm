{
 "cells": [
  {
   "cell_type": "code",
   "execution_count": 65,
   "metadata": {},
   "outputs": [
    {
     "name": "stdout",
     "output_type": "stream",
     "text": [
      "1 2 1 1 0\n"
     ]
    }
   ],
   "source": [
    "### 10801 ###\n",
    "\n",
    "def mk_list(x):\n",
    "    m = []\n",
    "    for x in range(1, x+1):\n",
    "        m.append(0)\n",
    "    return m\n",
    "buc_list = mk_list(bucket)\n",
    "\n",
    "for _ in range(method):\n",
    "    i, j, k = list(map(int, input().split()))\n",
    "    for __ in range(i-1, j):\n",
    "        buc_list[__] = k\n",
    "\n",
    "s = ''\n",
    "for _ in buc_list:\n",
    "    s += str(_) + ' '\n",
    "\n",
    "print(s.strip())"
   ]
  },
  {
   "cell_type": "code",
   "execution_count": 84,
   "metadata": {},
   "outputs": [
    {
     "name": "stdout",
     "output_type": "stream",
     "text": [
      "3 1 4 2 5\n"
     ]
    }
   ],
   "source": [
    "### 10813 ###\n",
    "\n",
    "bucket, method = list(map(int, input().split()))\n",
    "\n",
    "def mk_list(x):\n",
    "    m = []\n",
    "    for _ in range(1, x+1):\n",
    "        m.append(_)\n",
    "    return m\n",
    "\n",
    "buc_list = mk_list(bucket)\n",
    "\n",
    "for _ in range(method):\n",
    "    i, j = list(map(int, input().split()))\n",
    "    temp_i = buc_list[i-1]\n",
    "    temp_j = buc_list[j-1]\n",
    "    buc_list[i-1] = temp_j\n",
    "    buc_list[j-1] = temp_i\n",
    "\n",
    "s = ''\n",
    "for _ in buc_list:\n",
    "    s += str(_) + ' '\n",
    "\n",
    "print(s.strip())"
   ]
  },
  {
   "cell_type": "code",
   "execution_count": 109,
   "metadata": {},
   "outputs": [
    {
     "name": "stdout",
     "output_type": "stream",
     "text": [
      "2\n",
      "8\n"
     ]
    }
   ],
   "source": [
    "### 5597 ###\n",
    "\n",
    "def mk_list():\n",
    "    mk = []\n",
    "    for _ in range(1, 30+1):\n",
    "        mk.append(_)\n",
    "    return mk\n",
    "\n",
    "attendance = mk_list()\n",
    "\n",
    "for _ in range(1, 29):\n",
    "    attendance.remove(int(input()))\n",
    "\n",
    "print(f\"{min(attendance)}\\n{max(attendance)}\")"
   ]
  },
  {
   "cell_type": "code",
   "execution_count": 117,
   "metadata": {},
   "outputs": [
    {
     "name": "stdout",
     "output_type": "stream",
     "text": [
      "10\n"
     ]
    }
   ],
   "source": [
    "### 3052 ###\n",
    "\n",
    "count_list = list()\n",
    "for _ in range(10):\n",
    "    count_list.append(int(input()) % 42)\n",
    "\n",
    "print(len(set(count_list)))"
   ]
  },
  {
   "cell_type": "code",
   "execution_count": 134,
   "metadata": {},
   "outputs": [
    {
     "name": "stdout",
     "output_type": "stream",
     "text": [
      "3 4 1 2 5\n"
     ]
    }
   ],
   "source": [
    "### 10811 ###\n",
    "\n",
    "bucket, method = list(map(int, input().split()))\n",
    "\n",
    "def mklist(x):\n",
    "    mk = list()\n",
    "    for _ in range(1, x+1):\n",
    "        mk.append(_)\n",
    "    return mk\n",
    "\n",
    "buc_list = mklist(bucket)\n",
    "\n",
    "for _ in range(method):\n",
    "    i, j = list(map(int, input().split()))\n",
    "    buc_list[i-1:j] = buc_list[i-1:j][::-1]\n",
    "\n",
    "s = ''\n",
    "for _ in buc_list:\n",
    "    s += str(_) + ' '\n",
    "\n",
    "print(s.strip())"
   ]
  },
  {
   "cell_type": "code",
   "execution_count": 149,
   "metadata": {},
   "outputs": [
    {
     "name": "stdout",
     "output_type": "stream",
     "text": [
      "65.0\n"
     ]
    }
   ],
   "source": [
    "### 1546 ###\n",
    "\n",
    "nums = int(input())\n",
    "input_num = list(map(int, input().split()))\n",
    "high_sc = max(input_num)\n",
    "\n",
    "i = 0\n",
    "for _ in range(nums):\n",
    "    i += (input_num[_] / high_sc)\n",
    "\n",
    "print(i * 100 / nums)"
   ]
  },
  {
   "cell_type": "code",
   "execution_count": 7,
   "metadata": {},
   "outputs": [
    {
     "name": "stdout",
     "output_type": "stream",
     "text": [
      "2\n"
     ]
    }
   ],
   "source": [
    "### 5 / 2941 ###\n",
    "\n",
    "inp = input()\n",
    "\n",
    "word_list = [\"c=\", \"c-\", \"dz=\", \"d-\", \"lj\", \"nj\", \"s=\", \"z=\"]\n",
    "\n",
    "for _ in word_list:\n",
    "    inp = inp.replace(_, '!')\n",
    "\n",
    "re_num = inp.count('!')\n",
    "inp = inp.replace('!', '')\n",
    "print(len(inp) + re_num)"
   ]
  },
  {
   "cell_type": "code",
   "execution_count": null,
   "metadata": {},
   "outputs": [],
   "source": [
    "### 5 / 1316 ###\n",
    "\n",
    "roof = int(input())\n",
    "\n",
    "res = roof\n",
    "for _ in range(roof):\n",
    "    input_str = input()\n",
    "    _dict = {}\n",
    "    for num, voca in enumerate(input_str):\n",
    "        _dict[num] = voca\n",
    "        if len(_dict) == 1:\n",
    "            pass\n",
    "        elif _dict[num] != _dict[num - 1] and voca in list(_dict.values())[:-1]:\n",
    "            res -= 1\n",
    "            break\n",
    "print(res)"
   ]
  },
  {
   "cell_type": "code",
   "execution_count": 154,
   "metadata": {},
   "outputs": [],
   "source": [
    "### 7 / 2563 ###\n",
    "\n",
    "roof = int(input())\n",
    "\n",
    "def white(num):\n",
    "    res = []\n",
    "    for _ in range(num):\n",
    "        temp = [0] * num\n",
    "        for __ in range(1):\n",
    "            res.append(temp)\n",
    "    return res\n",
    "\n",
    "back = white(100)\n",
    "\n",
    "for ro in range(roof):\n",
    "    x, y = list(map(int, input().split()))\n",
    "    for _x in range(x, x + 10):\n",
    "        for _y in range(y, y + 10):\n",
    "            back[_x][_y] = 1\n",
    "\n",
    "res = 0\n",
    "for back_list in back:\n",
    "    for num in back_list:\n",
    "        res += num\n",
    "\n",
    "print(res)"
   ]
  },
  {
   "cell_type": "code",
   "execution_count": 180,
   "metadata": {},
   "outputs": [
    {
     "name": "stdout",
     "output_type": "stream",
     "text": [
      "60466175\n"
     ]
    }
   ],
   "source": [
    "### 8 / 2745 ###\n",
    "\n",
    "def mk_res(num, base):\n",
    "    res = 0\n",
    "    i = len(num) - 1\n",
    "    for _ in num:\n",
    "        if _.isdigit():\n",
    "            res += int(_) * (base ** i)\n",
    "        else:\n",
    "            res += (ord(_) - 55) * (base ** i)\n",
    "        i -= 1\n",
    "    return res\n",
    "\n",
    "num, base = input().split()\n",
    "base = int(base)\n",
    "\n",
    "res = mk_res(num, base)\n",
    "print(res)"
   ]
  },
  {
   "cell_type": "code",
   "execution_count": 182,
   "metadata": {},
   "outputs": [
    {
     "name": "stdout",
     "output_type": "stream",
     "text": [
      "ZZZZZ\n"
     ]
    }
   ],
   "source": [
    "### 8 / 11005 ###\n",
    "\n",
    "def mk_num(i, base):\n",
    "    num = \"\"\n",
    "    while i > 0:\n",
    "        conv = i % base\n",
    "        if conv < 10:\n",
    "            num = str(conv) + num\n",
    "        else:\n",
    "            num = chr(conv + 55) + num  # 10 이상인 경우 알파벳으로 변환\n",
    "        i //= base\n",
    "    return num if num else \"0\"\n",
    "\n",
    "\n",
    "i, base = map(str, input().split())\n",
    "base = int(base)\n",
    "i = int(i)\n",
    "res = mk_num(i, base)\n",
    "print(res)"
   ]
  },
  {
   "cell_type": "code",
   "execution_count": null,
   "metadata": {},
   "outputs": [],
   "source": [
    "### 9 / 5086 ###\n",
    "\n",
    "while True:\n",
    "\n",
    "    num_a, num_b = list(map(int, input().split()))\n",
    "\n",
    "    if num_a == 0 and num_b == 0:\n",
    "        break\n",
    "    else:\n",
    "        pass\n",
    "\n",
    "    if num_b % num_a == 0:\n",
    "        print(\"factor\")\n",
    "    elif num_a % num_b == 0:\n",
    "        print(\"multiple\")\n",
    "    else:\n",
    "        print(\"neither\")"
   ]
  },
  {
   "cell_type": "code",
   "execution_count": null,
   "metadata": {},
   "outputs": [],
   "source": [
    "### 9 / 2501 ###\n",
    "\n",
    "stan_num,pop = list(map(int, input().split()))\n",
    "\n",
    "measure = []\n",
    "for _ in range(1, stan_num + 1):\n",
    "    if stan_num % _ == 0:\n",
    "        measure.append(_)\n",
    "\n",
    "try:\n",
    "    print(measure[pop - 1])\n",
    "except:\n",
    "    print(0)"
   ]
  },
  {
   "cell_type": "code",
   "execution_count": null,
   "metadata": {},
   "outputs": [],
   "source": [
    "while True:\n",
    "    num = int(input())\n",
    "    if num == -1:\n",
    "        break\n",
    "    else:\n",
    "        pass\n",
    "    measure = ''\n",
    "    culc = 0\n",
    "    for _ in range(1, num):\n",
    "        if num % _ == 0:\n",
    "            measure += str(_)+ ' + '\n",
    "            culc += _\n",
    "    if num == culc:\n",
    "        print(f\"{num} = {measure[:-3]}\")\n",
    "    else:\n",
    "        print(f\"{num} is NOT perfect.\")"
   ]
  },
  {
   "cell_type": "code",
   "execution_count": null,
   "metadata": {},
   "outputs": [],
   "source": [
    "roof = int(input())\n",
    "num_list = list(map(int, input().split()))\n",
    "\n",
    "count = 0\n",
    "for num in num_list:\n",
    "    try:\n",
    "        measure = list()\n",
    "        for _ in range(1, num+1):\n",
    "            if num % _ == 0:\n",
    "                measure.append(_)\n",
    "        measure.remove(1)\n",
    "        measure.remove(num)\n",
    "        if len(measure) == 0:\n",
    "            count += 1\n",
    "        else:\n",
    "            pass\n",
    "    except:\n",
    "        pass\n",
    "print(count)"
   ]
  },
  {
   "cell_type": "code",
   "execution_count": null,
   "metadata": {},
   "outputs": [],
   "source": [
    "range_min = int(input())\n",
    "range_max = int(input())\n",
    "\n",
    "res = list()\n",
    "for num in range(range_min, range_max + 1):\n",
    "    try:\n",
    "        measure = list()\n",
    "        for _ in range(1, num + 1):\n",
    "            if num % _ == 0:\n",
    "                measure.append(_)\n",
    "            else:\n",
    "                pass\n",
    "        measure.remove(1)\n",
    "        measure.remove(num)\n",
    "        if len(measure) == 0:\n",
    "            res.append(num)\n",
    "    except:\n",
    "        pass\n",
    "\n",
    "if len(res) == 0:\n",
    "    print(-1)\n",
    "else:\n",
    "    print(sum(res))\n",
    "    print(min(res))"
   ]
  },
  {
   "cell_type": "code",
   "execution_count": null,
   "metadata": {},
   "outputs": [],
   "source": [
    "num = int(input())\n",
    "\n",
    "div = 2\n",
    "while True:\n",
    "    try:\n",
    "        if num == 1:\n",
    "            break\n",
    "        elif num % div == 0:\n",
    "            print(div)\n",
    "            num = num / div\n",
    "            div = 2\n",
    "        else:\n",
    "            div += 1\n",
    "    except:\n",
    "        pass"
   ]
  },
  {
   "cell_type": "code",
   "execution_count": null,
   "metadata": {},
   "outputs": [],
   "source": [
    "num_a = int(input())\n",
    "num_b = int(input())\n",
    "\n",
    "res = num_a * num_b\n",
    "print(res)"
   ]
  },
  {
   "cell_type": "code",
   "execution_count": null,
   "metadata": {},
   "outputs": [],
   "source": [
    "x, y, w, h = list(map(int, input().split()))\n",
    "\n",
    "res = [abs(0 - x), abs(0 - y), abs(w - x), abs(h - y)]\n",
    "print(min(res))"
   ]
  },
  {
   "cell_type": "code",
   "execution_count": null,
   "metadata": {},
   "outputs": [],
   "source": [
    "x1, y1 = list(map(int, input().split()))\n",
    "x2, y2 = list(map(int, input().split()))\n",
    "x3, y3 = list(map(int, input().split()))\n",
    "\n",
    "x_list = [x1, x2, x3]\n",
    "y_list = [y1, y2, y3]\n",
    "\n",
    "x_rem = sum(x_list) - sum(set(x_list))\n",
    "y_rem = sum(y_list) - sum(set(y_list))\n",
    "\n",
    "res = list()\n",
    "for x in x_list:\n",
    "    if x != x_rem:\n",
    "        res.append(x)\n",
    "for y in y_list:\n",
    "    if y != y_rem:\n",
    "        res.append(y)\n",
    "\n",
    "print(*res)"
   ]
  },
  {
   "cell_type": "code",
   "execution_count": null,
   "metadata": {},
   "outputs": [],
   "source": [
    "roof = int(input())\n",
    "\n",
    "x_list = list()\n",
    "y_list = list()\n",
    "\n",
    "if roof == 1:\n",
    "    x, y = list(map(int, input().split()))\n",
    "    print(0)\n",
    "else:\n",
    "    for _ in range(roof):\n",
    "        x, y = list(map(int, input().split()))\n",
    "        x_list.append(x)\n",
    "        y_list.append(y)\n",
    "\n",
    "    x_culc = max(x_list) - min(x_list)\n",
    "    y_culc = max(y_list) - min(y_list)\n",
    "\n",
    "    res = x_culc * y_culc\n",
    "    print(res)"
   ]
  }
 ],
 "metadata": {
  "kernelspec": {
   "display_name": "base",
   "language": "python",
   "name": "python3"
  },
  "language_info": {
   "codemirror_mode": {
    "name": "ipython",
    "version": 3
   },
   "file_extension": ".py",
   "mimetype": "text/x-python",
   "name": "python",
   "nbconvert_exporter": "python",
   "pygments_lexer": "ipython3",
   "version": "3.11.7"
  }
 },
 "nbformat": 4,
 "nbformat_minor": 2
}
