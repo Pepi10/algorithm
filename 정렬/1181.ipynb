{
 "cells": [
  {
   "cell_type": "markdown",
   "metadata": {},
   "source": [
    "### 문제\n",
    "---\n",
    "알파벳 소문자로 이루어진 N개의 단어가 들어오면 아래와 같은 조건에 따라 정렬하는 프로그램을 작성하시오.\n",
    "\n",
    "길이가 짧은 것부터\n",
    "길이가 같으면 사전 순으로\n",
    "단, 중복된 단어는 하나만 남기고 제거해야 한다.\n",
    "\n",
    "### 입력\n",
    "---\n",
    "첫째 줄에 단어의 개수 N이 주어진다. (1 ≤ N ≤ 20,000) 둘째 줄부터 N개의 줄에 걸쳐 알파벳 소문자로 이루어진 단어가 한 줄에 하나씩 주어진다. 주어지는 문자열의 길이는 50을 넘지 않는다.\n",
    "\n",
    "### 출력\n",
    "---\n",
    "조건에 따라 정렬하여 단어들을 출력한다."
   ]
  },
  {
   "cell_type": "code",
   "execution_count": 2,
   "metadata": {},
   "outputs": [],
   "source": [
    "di = dict()\n",
    "\n",
    "di[3] = [\"axs\", \"ksb\", \"cuo\"]\n",
    "di[1] = [\"j\",\"a\",\"p\"]\n",
    "di[2] = [\"da\", \"ed\", \"ks\"]"
   ]
  },
  {
   "cell_type": "code",
   "execution_count": 3,
   "metadata": {},
   "outputs": [
    {
     "data": {
      "text/plain": [
       "{3: ['axs', 'ksb', 'cuo'], 1: ['j', 'a', 'p'], 2: ['da', 'ed', 'ks']}"
      ]
     },
     "execution_count": 3,
     "metadata": {},
     "output_type": "execute_result"
    }
   ],
   "source": [
    "di"
   ]
  },
  {
   "cell_type": "code",
   "execution_count": 5,
   "metadata": {},
   "outputs": [
    {
     "name": "stdout",
     "output_type": "stream",
     "text": [
      "a\n",
      "j\n",
      "p\n",
      "da\n",
      "ed\n",
      "ks\n",
      "axs\n",
      "cuo\n",
      "ksb\n"
     ]
    }
   ],
   "source": [
    "for ind in sorted(di):\n",
    "    for val in sorted(di[ind]):\n",
    "        print(val)"
   ]
  },
  {
   "cell_type": "code",
   "execution_count": 6,
   "metadata": {},
   "outputs": [
    {
     "name": "stdout",
     "output_type": "stream",
     "text": [
      "i\n",
      "im\n",
      "it\n",
      "no\n",
      "but\n",
      "more\n",
      "wait\n",
      "wont\n",
      "yours\n",
      "cannot\n",
      "hesitate\n"
     ]
    }
   ],
   "source": [
    "roof = int(input())\n",
    "\n",
    "temp_di = {}\n",
    "for _ in range(roof):\n",
    "    val = input()\n",
    "    ind = len(val)\n",
    "    if ind not in temp_di:\n",
    "        temp_di[ind] = []\n",
    "    if val in temp_di[ind]:\n",
    "        pass \n",
    "    else:\n",
    "        temp_di[ind].append(val)\n",
    "\n",
    "for ind in sorted(temp_di):\n",
    "    for val in sorted(temp_di[ind]):\n",
    "        print(val)"
   ]
  },
  {
   "cell_type": "code",
   "execution_count": null,
   "metadata": {},
   "outputs": [],
   "source": [
    "import sys\n",
    "\n",
    "roof = int(sys.stdin.readline().rstrip())\n",
    "\n",
    "temp_di = {}\n",
    "for _ in range(roof):\n",
    "    val = sys.stdin.readline().rstrip()\n",
    "    ind = len(val)\n",
    "    if ind not in temp_di:\n",
    "        temp_di[ind] = []\n",
    "    if val in temp_di[ind]:\n",
    "        pass \n",
    "    else:\n",
    "        temp_di[ind].append(val)\n",
    "\n",
    "for ind in sorted(temp_di):\n",
    "    for val in sorted(temp_di[ind]):\n",
    "        print(val)"
   ]
  }
 ],
 "metadata": {
  "kernelspec": {
   "display_name": "base",
   "language": "python",
   "name": "python3"
  },
  "language_info": {
   "codemirror_mode": {
    "name": "ipython",
    "version": 3
   },
   "file_extension": ".py",
   "mimetype": "text/x-python",
   "name": "python",
   "nbconvert_exporter": "python",
   "pygments_lexer": "ipython3",
   "version": "3.11.7"
  }
 },
 "nbformat": 4,
 "nbformat_minor": 2
}
