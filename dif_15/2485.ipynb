{
 "cells": [
  {
   "cell_type": "code",
   "execution_count": 47,
   "metadata": {},
   "outputs": [
    {
     "name": "stdout",
     "output_type": "stream",
     "text": [
      "[4, 6, 6]\n"
     ]
    }
   ],
   "source": [
    "roof = int(input().rstrip())\n",
    "\n",
    "dif_li = []\n",
    "for _ in range(roof):\n",
    "    if _ % 2 == 0:\n",
    "        even_tree = int(input().rstrip())\n",
    "    elif _ % 2 != 0:\n",
    "        odd_tree = int(input().rstrip())\n",
    "    if _ > 0:\n",
    "        dif_li.append(abs(odd_tree - even_tree))\n",
    "\n",
    "print(dif_li)"
   ]
  },
  {
   "cell_type": "code",
   "execution_count": 48,
   "metadata": {},
   "outputs": [],
   "source": [
    "def gcd(a, b):\n",
    "    while b:\n",
    "        a, b = b, a % b\n",
    "    return a\n",
    "\n",
    "def multiple_gcd(list):\n",
    "    _res = list[0]\n",
    "    for _ in range(1, len(list)):\n",
    "        _res = gcd(_res, list[_])\n",
    "    return _res"
   ]
  },
  {
   "cell_type": "code",
   "execution_count": 49,
   "metadata": {},
   "outputs": [
    {
     "name": "stdout",
     "output_type": "stream",
     "text": [
      "5\n"
     ]
    }
   ],
   "source": [
    "res = 0\n",
    "for _ in dif_li:\n",
    "    res += _ // multiple_gcd(dif_li) - 1\n",
    "\n",
    "print(res)"
   ]
  },
  {
   "cell_type": "markdown",
   "metadata": {},
   "source": [
    "### result"
   ]
  },
  {
   "cell_type": "code",
   "execution_count": null,
   "metadata": {},
   "outputs": [],
   "source": [
    "import sys\n",
    "input = sys.stdin.readline\n",
    "\n",
    "def gcd(a, b):\n",
    "    while b:\n",
    "        a, b = b, a % b\n",
    "    return a\n",
    "\n",
    "def multiple_gcd(list):\n",
    "    _res = list[0]\n",
    "    for _ in range(1, len(list)):\n",
    "        _res = gcd(_res, list[_])\n",
    "    return _res\n",
    "\n",
    "roof = int(input().rstrip())\n",
    "\n",
    "dif_li = []\n",
    "for _ in range(roof):\n",
    "    if _ % 2 == 0:\n",
    "        even_tree = int(input().rstrip())\n",
    "    elif _ % 2 != 0:\n",
    "        odd_tree = int(input().rstrip())\n",
    "    if _ > 0:\n",
    "        dif_li.append(abs(odd_tree - even_tree))\n",
    "\n",
    "res = 0\n",
    "for _ in dif_li:\n",
    "    res += _ // multiple_gcd(dif_li) - 1\n",
    "\n",
    "print(res)"
   ]
  },
  {
   "cell_type": "markdown",
   "metadata": {},
   "source": [
    "### 시간초과"
   ]
  },
  {
   "cell_type": "code",
   "execution_count": null,
   "metadata": {},
   "outputs": [],
   "source": [
    "def gcd(a, b):\n",
    "    while b:\n",
    "        a, b = b, a % b\n",
    "    return a\n",
    "\n",
    "def multiple_gcd(list):\n",
    "    _res = list[0]\n",
    "    for _ in range(1, len(list)):\n",
    "        _res = gcd(_res, list[_])\n",
    "    return _res\n",
    "\n",
    "roof = int(input().rstrip())\n",
    "\n",
    "# 아마 이부분? #\n",
    "####################################################\n",
    "dif_li = []\n",
    "for _ in range(roof):\n",
    "    if _ % 2 == 0:\n",
    "        even_tree = int(input().rstrip())\n",
    "    elif _ % 2 != 0:                                    \n",
    "        odd_tree = int(input().rstrip())\n",
    "    if _ > 0:\n",
    "        dif_li.append(abs(odd_tree - even_tree))\n",
    "#####################################################\n",
    "\n",
    "res = 0\n",
    "for _ in dif_li:\n",
    "    res += _ // multiple_gcd(dif_li) - 1\n",
    "\n",
    "print(res)"
   ]
  },
  {
   "cell_type": "code",
   "execution_count": 53,
   "metadata": {},
   "outputs": [],
   "source": [
    "num = 1, 3, 7, 13"
   ]
  },
  {
   "cell_type": "code",
   "execution_count": 76,
   "metadata": {},
   "outputs": [],
   "source": [
    "def gcd(a, b):\n",
    "    while b:\n",
    "        a, b = b, a % b\n",
    "    return a"
   ]
  },
  {
   "cell_type": "code",
   "execution_count": 30,
   "metadata": {},
   "outputs": [],
   "source": [
    "roof = 4"
   ]
  },
  {
   "cell_type": "code",
   "execution_count": 42,
   "metadata": {},
   "outputs": [],
   "source": [
    "#######################################\n",
    "dif = [0, 0]\n",
    "tree = int(input().rstrip())\n",
    "min_tree = tree\n",
    "for _ in range(roof -1):\n",
    "    temp_tree = int(input().rstrip())\n",
    "    dif[_ % 2] = abs(tree - temp_tree)\n",
    "    tree = temp_tree\n",
    "    if 0 not in dif:\n",
    "        dif[_ % 2] = gcd(dif[0], dif[1])\n",
    "    entire_gcd = gcd(dif[0], dif[1])\n",
    "    max_tree = tree\n",
    "#######################################"
   ]
  },
  {
   "cell_type": "code",
   "execution_count": 39,
   "metadata": {},
   "outputs": [],
   "source": [
    "def count_values(a, b, c):\n",
    "    _len = b - a\n",
    "    _inter = _len // c\n",
    "    _res = _inter + 1"
   ]
  },
  {
   "cell_type": "code",
   "execution_count": 43,
   "metadata": {},
   "outputs": [
    {
     "data": {
      "text/plain": [
       "5"
      ]
     },
     "execution_count": 43,
     "metadata": {},
     "output_type": "execute_result"
    }
   ],
   "source": [
    "count_values(min_tree, max_tree, entire_gcd) - roof"
   ]
  },
  {
   "cell_type": "raw",
   "metadata": {
    "vscode": {
     "languageId": "raw"
    }
   },
   "source": [
    "1 7 13 19 25 31 37 43 49"
   ]
  },
  {
   "cell_type": "raw",
   "metadata": {
    "vscode": {
     "languageId": "raw"
    }
   },
   "source": [
    "1 7 31 49"
   ]
  },
  {
   "cell_type": "markdown",
   "metadata": {},
   "source": [
    "### Result 2"
   ]
  },
  {
   "cell_type": "code",
   "execution_count": 45,
   "metadata": {},
   "outputs": [
    {
     "name": "stdout",
     "output_type": "stream",
     "text": [
      "3\n"
     ]
    }
   ],
   "source": [
    "import sys\n",
    "input = sys.stdin.readline\n",
    "\n",
    "def gcd(a, b):\n",
    "    while b:\n",
    "        a, b = b, a % b\n",
    "    return a\n",
    "\n",
    "roof = int(input().rstrip())\n",
    "\n",
    "dif = [0, 0]\n",
    "tree = int(input().rstrip())\n",
    "min_tree = tree\n",
    "for _ in range(roof -1):\n",
    "    temp_tree = int(input().rstrip())\n",
    "    dif[_ % 2] = abs(tree - temp_tree)\n",
    "    tree = temp_tree\n",
    "    if 0 not in dif:\n",
    "        dif[_ % 2] = gcd(dif[0], dif[1])\n",
    "    entire_gcd = gcd(dif[0], dif[1])\n",
    "    max_tree = tree\n",
    "\n",
    "def count_values(a, b, c):\n",
    "    _len = b - a\n",
    "    _inter = _len // c\n",
    "    _res = _inter + 1\n",
    "    \n",
    "    return _res\n",
    "res = count_values(min_tree, max_tree, entire_gcd) - roof\n",
    "print(res)"
   ]
  }
 ],
 "metadata": {
  "kernelspec": {
   "display_name": "pepi10",
   "language": "python",
   "name": "python3"
  },
  "language_info": {
   "codemirror_mode": {
    "name": "ipython",
    "version": 3
   },
   "file_extension": ".py",
   "mimetype": "text/x-python",
   "name": "python",
   "nbconvert_exporter": "python",
   "pygments_lexer": "ipython3",
   "version": "3.7.12"
  }
 },
 "nbformat": 4,
 "nbformat_minor": 2
}
