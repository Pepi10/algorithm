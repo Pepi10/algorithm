{
 "cells": [
  {
   "cell_type": "code",
   "execution_count": 11,
   "metadata": {},
   "outputs": [],
   "source": [
    "def search_prime(max_num):\n",
    "    is_prime = [True] * (max_num + 1)\n",
    "    is_prime[0] = is_prime[1] = False\n",
    "\n",
    "    for i in range(2, int(max_num ** 0.5) + 1):\n",
    "        if is_prime[i]:\n",
    "            for j in range(i * i, max_num + 1, i):\n",
    "                is_prime[j] = False\n",
    "    \n",
    "    primes = [i for i, _true in enumerate(is_prime) if _true]\n",
    "    return primes"
   ]
  },
  {
   "cell_type": "code",
   "execution_count": 17,
   "metadata": {},
   "outputs": [
    {
     "name": "stdout",
     "output_type": "stream",
     "text": [
      "3\n",
      "5\n",
      "7\n",
      "11\n",
      "13\n"
     ]
    }
   ],
   "source": [
    "_min, _max = list(map(int, input().rstrip().split()))\n",
    "\n",
    "for _ in search_prime(_max):\n",
    "    if _ >= _min:\n",
    "        print(_)"
   ]
  },
  {
   "cell_type": "code",
   "execution_count": 1,
   "metadata": {},
   "outputs": [
    {
     "name": "stdout",
     "output_type": "stream",
     "text": [
      "3\n",
      "5\n",
      "7\n",
      "11\n",
      "13\n"
     ]
    }
   ],
   "source": [
    "# import sys \n",
    "# input = sys.stdin.readline \n",
    "\n",
    "def search_prime(max_num):\n",
    "    is_prime = [True] * (max_num + 1)\n",
    "    is_prime[0] = is_prime[1] = False\n",
    "\n",
    "    for i in range(2, int(max_num ** 0.5) + 1):\n",
    "        if is_prime[i]:\n",
    "            for j in range(i * i, max_num + 1, i):\n",
    "                is_prime[j] = False\n",
    "    \n",
    "    primes = [i for i, _true in enumerate(is_prime) if _true]\n",
    "    return primes\n",
    "\n",
    "_min, _max = list(map(int, input().rstrip().split()))\n",
    "\n",
    "for _ in search_prime(_max):\n",
    "    if _ >= _min:\n",
    "        print(_)"
   ]
  }
 ],
 "metadata": {
  "kernelspec": {
   "display_name": "Python 3",
   "language": "python",
   "name": "python3"
  },
  "language_info": {
   "codemirror_mode": {
    "name": "ipython",
    "version": 3
   },
   "file_extension": ".py",
   "mimetype": "text/x-python",
   "name": "python",
   "nbconvert_exporter": "python",
   "pygments_lexer": "ipython3",
   "version": "3.11.9"
  }
 },
 "nbformat": 4,
 "nbformat_minor": 2
}
