{
 "cells": [
  {
   "cell_type": "code",
   "execution_count": 14,
   "metadata": {},
   "outputs": [
    {
     "name": "stdout",
     "output_type": "stream",
     "text": [
      "31 35\n"
     ]
    }
   ],
   "source": [
    "import sys\n",
    "input = sys.stdin.readline\n",
    "\n",
    "a_0, a_1 = list(map(int, input().rstrip().split()))\n",
    "b_0, b_1 = list(map(int, input().rstrip().split()))\n",
    "\n",
    "def gcd(a, b):\n",
    "    while b:\n",
    "        a, b = b, a % b\n",
    "    return a\n",
    "\n",
    "res_0 = (a_0 * b_1) + (b_0 * a_1)\n",
    "res_1 = a_1 * b_1\n",
    "\n",
    "res = [int(res_0/gcd(res_0, res_1)), int(res_1/gcd(res_0, res_1))]\n",
    "print(*res)"
   ]
  }
 ],
 "metadata": {
  "kernelspec": {
   "display_name": "pepi10",
   "language": "python",
   "name": "python3"
  },
  "language_info": {
   "codemirror_mode": {
    "name": "ipython",
    "version": 3
   },
   "file_extension": ".py",
   "mimetype": "text/x-python",
   "name": "python",
   "nbconvert_exporter": "python",
   "pygments_lexer": "ipython3",
   "version": "3.7.12"
  }
 },
 "nbformat": 4,
 "nbformat_minor": 2
}
