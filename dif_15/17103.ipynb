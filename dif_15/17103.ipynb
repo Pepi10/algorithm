{
 "cells": [
  {
   "cell_type": "markdown",
   "metadata": {},
   "source": [
    "### test"
   ]
  },
  {
   "cell_type": "code",
   "execution_count": 57,
   "metadata": {},
   "outputs": [],
   "source": [
    "num = 10\n",
    "\n",
    "set_yes = set()\n",
    "set_no = {0, 1}\n",
    "\n",
    "for _ in range(num + 1):\n",
    "    set_yes.add(_)\n",
    "\n",
    "for f in range(2, int(num ** 0.5) + 1):\n",
    "    for s in range(f * f, num + 1, f):\n",
    "        set_no.add(s)\n",
    "pri_li = list(set_yes - set_no)"
   ]
  },
  {
   "cell_type": "code",
   "execution_count": 34,
   "metadata": {},
   "outputs": [
    {
     "data": {
      "text/plain": [
       "4"
      ]
     },
     "execution_count": 34,
     "metadata": {},
     "output_type": "execute_result"
    }
   ],
   "source": [
    "len(pri_li)"
   ]
  },
  {
   "cell_type": "code",
   "execution_count": 36,
   "metadata": {},
   "outputs": [
    {
     "name": "stdout",
     "output_type": "stream",
     "text": [
      "[2, 3, 5, 7]\n"
     ]
    }
   ],
   "source": [
    "print(pri_li)"
   ]
  },
  {
   "cell_type": "code",
   "execution_count": 70,
   "metadata": {},
   "outputs": [
    {
     "name": "stdout",
     "output_type": "stream",
     "text": [
      "2 7\n",
      "2 5\n",
      "2 3\n",
      "3 7\n",
      "3 5\n",
      "3 2\n",
      "5 7\n",
      "5 3\n",
      "5 2\n",
      "7 5\n",
      "7 3\n",
      "7 2\n"
     ]
    }
   ],
   "source": [
    "for num in pri_li:\n",
    "    for re_num in pri_li[::-1]:\n",
    "        if num == re_num:\n",
    "            pass\n",
    "        else:\n",
    "            print(num, re_num)"
   ]
  },
  {
   "cell_type": "code",
   "execution_count": 62,
   "metadata": {},
   "outputs": [],
   "source": [
    "def 계산(list, target):\n",
    "    res = 0\n",
    "    for num in list:\n",
    "        for re_num in list[::-1]:\n",
    "            if num + re_num == target:\n",
    "                if num != re_num:\n",
    "                    res += 1\n",
    "    \n",
    "    return res"
   ]
  },
  {
   "cell_type": "code",
   "execution_count": 63,
   "metadata": {},
   "outputs": [
    {
     "data": {
      "text/plain": [
       "2"
      ]
     },
     "execution_count": 63,
     "metadata": {},
     "output_type": "execute_result"
    }
   ],
   "source": [
    "계산(pri_li, num)"
   ]
  },
  {
   "cell_type": "markdown",
   "metadata": {},
   "source": [
    "### make"
   ]
  },
  {
   "cell_type": "code",
   "execution_count": 13,
   "metadata": {},
   "outputs": [],
   "source": [
    "def search_prime(num):\n",
    "    primes = set(range(2, num + 1))\n",
    "\n",
    "    for i in range(2, int(num ** 0.5) + 1):\n",
    "        if i in primes:\n",
    "            primes -= set(range(i * i, num + 1, i))\n",
    "\n",
    "    return primes\n",
    "\n",
    "num = 10\n",
    "pri_li = list(search_prime(num))"
   ]
  },
  {
   "cell_type": "code",
   "execution_count": 126,
   "metadata": {},
   "outputs": [],
   "source": [
    "def 계산(list, target):\n",
    "    res = 0\n",
    "    for a in list:\n",
    "        if a <= target / 2:\n",
    "            for re_a in list[::-1]:\n",
    "                if re_a >= target / 2:\n",
    "                    if a + re_a == target:\n",
    "                        if num != re_num:\n",
    "                            res += 1\n",
    "            \n",
    "    return res"
   ]
  },
  {
   "cell_type": "code",
   "execution_count": 127,
   "metadata": {},
   "outputs": [
    {
     "data": {
      "text/plain": [
       "1"
      ]
     },
     "execution_count": 127,
     "metadata": {},
     "output_type": "execute_result"
    }
   ],
   "source": [
    "계산(pri_li, num)"
   ]
  },
  {
   "cell_type": "raw",
   "metadata": {},
   "source": [
    "5\n",
    "6 = 1\n",
    "8 = 1\n",
    "10 = 2\n",
    "12 = 1\n",
    "100 = 6"
   ]
  },
  {
   "cell_type": "code",
   "execution_count": 2,
   "metadata": {},
   "outputs": [],
   "source": [
    "import time"
   ]
  },
  {
   "cell_type": "code",
   "execution_count": 26,
   "metadata": {},
   "outputs": [
    {
     "name": "stdout",
     "output_type": "stream",
     "text": [
      "5402\n",
      "0.6877286434173584\n"
     ]
    }
   ],
   "source": [
    "# import sys\n",
    "# input = sys.stdin.readline\n",
    "\n",
    "roof = int(input().rstrip())\n",
    "\n",
    "def search_prime(num):\n",
    "    primes = set(range(2, num + 1))\n",
    "\n",
    "    for i in range(2, int(num ** 0.5) + 1):\n",
    "        if i in primes:\n",
    "            primes -= set(range(i * i, num + 1, i))\n",
    "\n",
    "    return primes\n",
    "\n",
    "def culc(lst, target):\n",
    "    seen = set()\n",
    "    res = 0\n",
    "    \n",
    "    for num in lst:\n",
    "        culcu = target - num\n",
    "    ##########################\n",
    "        if culcu in seen:\n",
    "            res += 1\n",
    "        seen.add(num)\n",
    "    ##########################    \n",
    "        if num == target / 2:\n",
    "            res += 1\n",
    "        \n",
    "    return res\n",
    "\n",
    "\n",
    "for _ in range(roof):\n",
    "    num = int(input().rstrip())\n",
    "    start = time.time()\n",
    "    pri_li = list(search_prime(num))\n",
    "    res = culc(pri_li, num)\n",
    "    print(res)\n",
    "print(time.time() - start)"
   ]
  },
  {
   "cell_type": "markdown",
   "metadata": {},
   "source": [
    "### 시간초과 수정"
   ]
  },
  {
   "cell_type": "code",
   "execution_count": 16,
   "metadata": {},
   "outputs": [
    {
     "data": {
      "text/plain": [
       "2"
      ]
     },
     "execution_count": 16,
     "metadata": {},
     "output_type": "execute_result"
    }
   ],
   "source": [
    "seen = set()\n",
    "res = 0\n",
    "target = 10\n",
    "lst = pri_li\n",
    "\n",
    "for num in lst:\n",
    "    culcu = target - num\n",
    "##########################\n",
    "    if culcu in seen:\n",
    "        res += 1\n",
    "    seen.add(num)\n",
    "##########################    \n",
    "    if num == target / 2:\n",
    "        res += 1\n",
    "res"
   ]
  },
  {
   "cell_type": "code",
   "execution_count": 5,
   "metadata": {},
   "outputs": [],
   "source": [
    "def search_prime(num):\n",
    "    primes = set(range(2, num + 1))\n",
    "\n",
    "    for i in range(2, int(num ** 0.5) + 1):\n",
    "        if i in primes:\n",
    "            primes -= set(range(i * i, num + 1, i))\n",
    "\n",
    "    return primes"
   ]
  },
  {
   "cell_type": "code",
   "execution_count": 23,
   "metadata": {},
   "outputs": [],
   "source": [
    "def culc(lst, target):\n",
    "    mid = 0\n",
    "    seen = set()\n",
    "    res = 0\n",
    "\n",
    "    for num in lst:\n",
    "        if num == target / 2:\n",
    "            mid = 1\n",
    "        culcu = target - num\n",
    "    ##################################\n",
    "        l, r = 0, len(lst) - 1\n",
    "        while l <= r:\n",
    "            center = (l + r) // 2\n",
    "            if lst[center] == culcu:\n",
    "                res += 1\n",
    "                seen.add(num)\n",
    "                break\n",
    "            elif lst[center] < culcu:\n",
    "                l = center + 1\n",
    "            else:\n",
    "                r = center - 1\n",
    "    ##################################\n",
    "    if mid == 0:\n",
    "        res = int(res / 2)\n",
    "    else:\n",
    "        res = int(res / 2 + 0.5)\n",
    "\n",
    "    return res"
   ]
  },
  {
   "cell_type": "code",
   "execution_count": 32,
   "metadata": {},
   "outputs": [
    {
     "name": "stdout",
     "output_type": "stream",
     "text": [
      "1\n",
      "0.0039937496185302734\n",
      "1\n",
      "0.0\n",
      "2\n",
      "0.0\n",
      "1\n",
      "0.0\n",
      "6\n",
      "0.0005066394805908203\n",
      "5402\n",
      "0.8130602836608887\n"
     ]
    }
   ],
   "source": [
    "roof = int(input().rstrip())\n",
    "\n",
    "def search_prime(num):\n",
    "    primes = set(range(2, num + 1))\n",
    "\n",
    "    for i in range(2, int(num ** 0.5) + 1):\n",
    "        if i in primes:\n",
    "            primes -= set(range(i * i, num + 1, i))\n",
    "\n",
    "    return primes\n",
    "\n",
    "def culc(lst, target):\n",
    "    mid = 0\n",
    "    seen = set()\n",
    "    res = 0\n",
    "\n",
    "    for num in lst:\n",
    "        if num == target / 2:\n",
    "            mid = 1\n",
    "        culcu = target - num\n",
    "    ##################################\n",
    "        l, r = 0, len(lst) - 1\n",
    "        while l <= r:\n",
    "            center = (l + r) // 2\n",
    "            if lst[center] == culcu:\n",
    "                res += 1\n",
    "                seen.add(num)\n",
    "                break\n",
    "            elif lst[center] < culcu:\n",
    "                l = center + 1\n",
    "            else:\n",
    "                r = center - 1\n",
    "    ##################################\n",
    "    if mid == 0:\n",
    "        res = int(res / 2)\n",
    "    else:\n",
    "        res = int(res / 2 + 0.5)\n",
    "\n",
    "    return res\n",
    "\n",
    "\n",
    "for _ in range(roof):\n",
    "    num = int(input().rstrip())\n",
    "    start = time.time()\n",
    "    pri_li = list(search_prime(num))\n",
    "    res = culc(pri_li, num)\n",
    "    print(res)\n",
    "    print(time.time() - start)"
   ]
  },
  {
   "cell_type": "markdown",
   "metadata": {},
   "source": [
    "### 실패..."
   ]
  },
  {
   "cell_type": "code",
   "execution_count": null,
   "metadata": {},
   "outputs": [],
   "source": [
    "def culc(lst, target):\n",
    "    mid = 0\n",
    "    seen = set()\n",
    "    res = 0\n",
    "\n",
    "    for num in lst:\n",
    "        if num == target / 2:\n",
    "            mid = 1\n",
    "        culcu = target - num\n",
    "    ##################################\n",
    "        l, r = 0, len(lst) - 1\n",
    "        while l <= r:\n",
    "            center = (l + r) // 2\n",
    "            if lst[center] == culcu:\n",
    "                res += 1\n",
    "                seen.add(num)\n",
    "                break\n",
    "            elif lst[center] < culcu:\n",
    "                l = center + 1\n",
    "            else:\n",
    "                r = center - 1\n",
    "    ##################################\n",
    "    if mid == 0:\n",
    "        res = int(res / 2)\n",
    "    else:\n",
    "        res = int(res / 2 + 0.5)\n",
    "\n",
    "    return res"
   ]
  },
  {
   "cell_type": "code",
   "execution_count": null,
   "metadata": {},
   "outputs": [],
   "source": [
    "res = 0\n",
    "l, r = 0, len(lst) - 1\n",
    "\n",
    "while l <= r:\n",
    "    total = lst[l] + lst[r]\n",
    "    if total == target:\n",
    "        res += 1\n",
    "        l += 1\n",
    "        r -= 1\n",
    "    elif total < target:\n",
    "        l += 1\n",
    "    else:\n",
    "        r -= 1"
   ]
  },
  {
   "cell_type": "code",
   "execution_count": 43,
   "metadata": {},
   "outputs": [
    {
     "name": "stdout",
     "output_type": "stream",
     "text": [
      "1\n",
      "0.0021097660064697266\n",
      "1\n",
      "0.0009920597076416016\n",
      "2\n",
      "0.0\n",
      "1\n",
      "0.0\n",
      "6\n",
      "0.0\n",
      "5402\n",
      "0.1478877067565918\n"
     ]
    }
   ],
   "source": [
    "import time\n",
    "\n",
    "roof = int(input().rstrip())\n",
    "\n",
    "def search_prime(num):\n",
    "    is_prime = [True] * (num + 1)\n",
    "    is_prime[0] = is_prime[1] = False\n",
    "\n",
    "    for i in range(2, int(num ** 0.5) + 1):\n",
    "        if is_prime[i]:\n",
    "            for j in range(i * i, num + 1, i):\n",
    "                is_prime[j] = False\n",
    "    \n",
    "    primes = [i for i, prime in enumerate(is_prime) if prime]\n",
    "    return primes\n",
    "\n",
    "def culc(lst, target):\n",
    "    res = 0\n",
    "    left, right = 0, len(lst) - 1\n",
    "    \n",
    "    while left <= right:\n",
    "        total = lst[left] + lst[right]\n",
    "        if total == target:\n",
    "            res += 1\n",
    "            left += 1\n",
    "            right -= 1\n",
    "        elif total < target:\n",
    "            left += 1\n",
    "        else:\n",
    "            right -= 1\n",
    "    \n",
    "    return res\n",
    "\n",
    "for _ in range(roof):\n",
    "    num = int(input().rstrip())\n",
    "    start = time.time()\n",
    "    pri_li = search_prime(num)\n",
    "    res = culc(pri_li, num)\n",
    "    print(res)  \n",
    "    print(time.time() - start)"
   ]
  },
  {
   "cell_type": "markdown",
   "metadata": {},
   "source": [
    "### Result 2"
   ]
  },
  {
   "cell_type": "code",
   "execution_count": 6,
   "metadata": {},
   "outputs": [
    {
     "name": "stdout",
     "output_type": "stream",
     "text": [
      "5402\n",
      "0.2132432460784912\n"
     ]
    }
   ],
   "source": [
    "import sys\n",
    "input = sys.stdin.readline\n",
    "\n",
    "def search_prime(num):\n",
    "    is_prime = [True] * (num + 1)\n",
    "    is_prime[0] = is_prime[1] = False\n",
    "\n",
    "    for i in range(2, int(num ** 0.5) + 1):\n",
    "        if is_prime[i]:\n",
    "            for j in range(i * i, num + 1, i):\n",
    "                is_prime[j] = False\n",
    "    \n",
    "    primes = [i for i, prime in enumerate(is_prime) if prime]\n",
    "    return primes\n",
    "\n",
    "def culc(lst, target):\n",
    "    res = 0\n",
    "    left, right = 0, len(lst) - 1\n",
    "    \n",
    "    while left <= right:\n",
    "        total = lst[left] + lst[right]\n",
    "        if total == target:\n",
    "            res += 1\n",
    "            left += 1\n",
    "            right -= 1\n",
    "        elif total < target:\n",
    "            left += 1\n",
    "        else:\n",
    "            right -= 1\n",
    "    return res\n",
    "\n",
    "roof = int(input().rstrip())\n",
    "for _ in range(roof):\n",
    "    num = int(input().rstrip())\n",
    "    pri_li = search_prime(num)\n",
    "    res = culc(pri_li, num)\n",
    "    print(res)"
   ]
  }
 ],
 "metadata": {
  "kernelspec": {
   "display_name": "pepi10",
   "language": "python",
   "name": "python3"
  },
  "language_info": {
   "codemirror_mode": {
    "name": "ipython",
    "version": 3
   },
   "file_extension": ".py",
   "mimetype": "text/x-python",
   "name": "python",
   "nbconvert_exporter": "python",
   "pygments_lexer": "ipython3",
   "version": "3.7.12"
  }
 },
 "nbformat": 4,
 "nbformat_minor": 2
}
