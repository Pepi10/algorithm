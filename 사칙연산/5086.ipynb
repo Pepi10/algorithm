{
 "cells": [
  {
   "cell_type": "markdown",
   "metadata": {},
   "source": [
    "### 문제\n",
    "---\n",
    "4 × 3 = 12이다.\n",
    "\n",
    "이 식을 통해 다음과 같은 사실을 알 수 있다.\n",
    "\n",
    "3은 12의 약수이고, 12는 3의 배수이다.\n",
    "\n",
    "4도 12의 약수이고, 12는 4의 배수이다.\n",
    "\n",
    "두 수가 주어졌을 때, 다음 3가지 중 어떤 관계인지 구하는 프로그램을 작성하시오.\n",
    "\n",
    "첫 번째 숫자가 두 번째 숫자의 약수이다.\n",
    "첫 번째 숫자가 두 번째 숫자의 배수이다.\n",
    "첫 번째 숫자가 두 번째 숫자의 약수와 배수 모두 아니다.\n",
    "\n",
    "### 입력\n",
    "---\n",
    "입력은 여러 테스트 케이스로 이루어져 있다. 각 테스트 케이스는 10,000이 넘지않는 두 자연수로 이루어져 있다. 마지막 줄에는 0이 2개 주어진다. 두 수가 같은 경우는 없다.\n",
    "\n",
    "### 출력\n",
    "---\n",
    "각 테스트 케이스마다 첫 번째 숫자가 두 번째 숫자의 약수라면 factor를, 배수라면 multiple을, 둘 다 아니라면 neither를 출력한다."
   ]
  },
  {
   "cell_type": "code",
   "execution_count": 1,
   "metadata": {},
   "outputs": [
    {
     "name": "stdout",
     "output_type": "stream",
     "text": [
      "factor\n",
      "multiple\n",
      "neither\n"
     ]
    }
   ],
   "source": [
    "while True:\n",
    "\n",
    "    num_a, num_b = list(map(int, input().split()))\n",
    "\n",
    "    if num_a == 0 and num_b == 0:\n",
    "        break\n",
    "    else:\n",
    "        pass\n",
    "\n",
    "    if num_b % num_a == 0:\n",
    "        print(\"factor\")\n",
    "    elif num_a % num_b == 0:\n",
    "        print(\"multiple\")\n",
    "    else:\n",
    "        print(\"neither\")"
   ]
  }
 ],
 "metadata": {
  "kernelspec": {
   "display_name": "Python 3",
   "language": "python",
   "name": "python3"
  },
  "language_info": {
   "codemirror_mode": {
    "name": "ipython",
    "version": 3
   },
   "file_extension": ".py",
   "mimetype": "text/x-python",
   "name": "python",
   "nbconvert_exporter": "python",
   "pygments_lexer": "ipython3",
   "version": "3.10.12"
  }
 },
 "nbformat": 4,
 "nbformat_minor": 2
}
