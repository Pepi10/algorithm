{
 "cells": [
  {
   "cell_type": "markdown",
   "metadata": {},
   "source": [
    "### 문제\n",
    "---\n",
    "\n",
    "0보다 크거나 같은 정수 N이 주어진다. 이때, N!을 출력하는 프로그램을 작성하시오.\n",
    "\n",
    "#### 입력\n",
    "---\n",
    "\n",
    "첫째 줄에 정수 N(0 ≤ N ≤ 12)이 주어진다.\n",
    "\n",
    "#### 출력\n",
    "---\n",
    "\n",
    "첫째 줄에 N!을 출력한다."
   ]
  },
  {
   "cell_type": "code",
   "execution_count": null,
   "metadata": {},
   "outputs": [],
   "source": [
    "import sys\n",
    "input = sys.stdin.readline\n",
    "\n",
    "num = int(input().rstrip())\n",
    "\n",
    "def fac(num):\n",
    "  res = 1\n",
    "  for _ in range(1, num + 1):\n",
    "    res *= _\n",
    "  return res\n",
    "\n",
    "print(fac(num))"
   ]
  }
 ],
 "metadata": {
  "language_info": {
   "name": "python"
  }
 },
 "nbformat": 4,
 "nbformat_minor": 2
}
