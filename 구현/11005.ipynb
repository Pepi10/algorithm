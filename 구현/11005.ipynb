{
 "cells": [
  {
   "cell_type": "markdown",
   "metadata": {},
   "source": [
    "### 문제\n",
    "---\n",
    "10진법 수 N이 주어진다. 이 수를 B진법으로 바꿔 출력하는 프로그램을 작성하시오.\n",
    "\n",
    "10진법을 넘어가는 진법은 숫자로 표시할 수 없는 자리가 있다. 이런 경우에는 다음과 같이 알파벳 대문자를 사용한다.\n",
    "\n",
    "A: 10, B: 11, ..., F: 15, ..., Y: 34, Z: 35\n",
    "\n",
    "### 입력\n",
    "---\n",
    "첫째 줄에 N과 B가 주어진다. (2 ≤ B ≤ 36) N은 10억보다 작거나 같은 자연수이다.\n",
    "\n",
    "### 출력\n",
    "---\n",
    "첫째 줄에 10진법 수 N을 B진법으로 출력한다."
   ]
  },
  {
   "cell_type": "code",
   "execution_count": 1,
   "metadata": {},
   "outputs": [
    {
     "name": "stdout",
     "output_type": "stream",
     "text": [
      "ZZZZZ\n"
     ]
    }
   ],
   "source": [
    "def mk_num(i, base):\n",
    "    num = \"\"\n",
    "    while i > 0:\n",
    "        conv = i % base\n",
    "        if conv < 10:\n",
    "            num = str(conv) + num\n",
    "        else:\n",
    "            num = chr(conv + 55) + num\n",
    "        i //= base\n",
    "    return num if num else \"0\"\n",
    "\n",
    "\n",
    "i, base = map(str, input().split())\n",
    "base = int(base)\n",
    "i = int(i)\n",
    "res = mk_num(i, base)\n",
    "print(res)"
   ]
  }
 ],
 "metadata": {
  "kernelspec": {
   "display_name": "Python 3",
   "language": "python",
   "name": "python3"
  },
  "language_info": {
   "codemirror_mode": {
    "name": "ipython",
    "version": 3
   },
   "file_extension": ".py",
   "mimetype": "text/x-python",
   "name": "python",
   "nbconvert_exporter": "python",
   "pygments_lexer": "ipython3",
   "version": "3.10.12"
  }
 },
 "nbformat": 4,
 "nbformat_minor": 2
}
