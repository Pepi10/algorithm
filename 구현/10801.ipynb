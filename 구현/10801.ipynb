{
 "cells": [
  {
   "cell_type": "markdown",
   "metadata": {},
   "source": [
    "### 문제\n",
    "---\n",
    "두 사람 A와 B는 1부터 10까지의 숫자가 하나씩 적힌 열 장의 카드로 ‘게임’을 한다. 게임은 총 열 번의 ‘라운드’로 구성되고, 각 라운드 마다 자신이 가지고 있는 카드 중 하나를 제시하고, 한 번 제시한 카드는 버린다. 게임 승패는 다음과 같이 결정된다.\n",
    "\n",
    "1. 각 라운드는 더 높은 숫자를 제시한 사람이 승리하고, 제시한 숫자가 같은 경우는 비긴다.\n",
    "2. 열 번의 라운드에서 더 많은 라운드를 승리한 사람이 게임을 승리하고, 승리한 라운드 횟수가 동일한 경우 비긴다.         \n",
    "\n",
    "다음은 게임의 한 예로, 각 라운드마다 A와 B가 제시한 카드의 숫자와 각 라운드의 승자를 보여준다. (비긴 라운드는 D로 표시함)\n",
    "\n",
    "\n",
    "| 라운드  |  1  |  2  |  3  |  4  |  5  |  6  |  7  |  8  |  9  | 10 |\n",
    "|:------:|:---:|:---:|:---:|:---:|:---:|:---:|:---:|:---:|:---:|:---:|\n",
    "| A의 카드 |  6  |  7  |  5  |  1  |  4  | 10  |  2  |  3  |  8  |  9 |\n",
    "| B의 카드 |  1  | 10  |  2  |  9  |  4  |  8  |  3  |  7  |  5  |  6 |\n",
    "| 라운드 승자 |  A  |  B  |  A  |  B  |  D  |  A  |  B  |  B  |  A  |  A |\n",
    "\n",
    "A는 5번의 라운드에서 승리하고 B는 4번의 라운드에서 승리하였으므로, 이 게임은 A가 승리한다.\n",
    "\n",
    "라운드 순서대로 A와 B가 제시한 카드의 숫자가 주어졌을 때, 게임의 승자를 판단하는 프로그램을 작성하시오.\n",
    "\n",
    "### 입력\n",
    "---\n",
    "첫 번째 줄에는 A가 제시한 카드의 숫자 10개가 라운드 순서대로 주어지고, 두 번째 줄에는 B가 제시한 카드의 숫자 10개가 라운드 순서대로 주어진다.\n",
    "\n",
    "### 출력\n",
    "---\n",
    "게임의 승패가 결정되는 경우 승리한 사람을 출력하고, 비기는 경우에는 D를 출력한다."
   ]
  },
  {
   "cell_type": "code",
   "execution_count": 21,
   "metadata": {},
   "outputs": [],
   "source": [
    "card_A = list(map(int, input().rstrip().split()))\n",
    "card_B = list(map(int, input().rstrip().split()))\n",
    "\n",
    "res = {\"A\":0,\"B\":0,\"D\":0}\n",
    "\n",
    "for a, b in zip(card_A, card_B):\n",
    "    if a > b:\n",
    "        res[\"A\"] += 1\n",
    "    elif a < b:\n",
    "        res[\"B\"] += 1\n",
    "    else:\n",
    "        res[\"D\"] += 1"
   ]
  },
  {
   "cell_type": "code",
   "execution_count": 31,
   "metadata": {},
   "outputs": [
    {
     "name": "stdout",
     "output_type": "stream",
     "text": [
      "A\n"
     ]
    }
   ],
   "source": [
    "max_key = max(res, key=res.get)\n",
    "print(max_key)"
   ]
  },
  {
   "cell_type": "markdown",
   "metadata": {},
   "source": [
    "### Result"
   ]
  },
  {
   "cell_type": "code",
   "execution_count": null,
   "metadata": {},
   "outputs": [],
   "source": [
    "import sys\n",
    "input = sys.stdin.readline\n",
    "\n",
    "card_A = list(map(int, input().rstrip().split()))\n",
    "card_B = list(map(int, input().rstrip().split()))\n",
    "\n",
    "res = {\"A\":0,\"B\":0,\"D\":0}\n",
    "\n",
    "for a, b in zip(card_A, card_B):\n",
    "    if a > b:\n",
    "        res[\"A\"] += 1\n",
    "    elif a < b:\n",
    "        res[\"B\"] += 1\n",
    "    else:\n",
    "        res[\"D\"] += 1\n",
    "\n",
    "max_key = max(res, key=res.get)\n",
    "print(max_key)"
   ]
  },
  {
   "cell_type": "code",
   "execution_count": null,
   "metadata": {},
   "outputs": [],
   "source": [
    "import sys\n",
    "input = sys.stdin.readline\n",
    "\n",
    "card_A = list(map(int, input().rstrip().split()))\n",
    "card_B = list(map(int, input().rstrip().split()))\n",
    "\n",
    "res = {\"A\":0,\"B\":0,\"D\":0}\n",
    "\n",
    "for a, b in zip(card_A, card_B):\n",
    "    if a > b:\n",
    "        res[\"A\"] += 1\n",
    "    elif a < b:\n",
    "        res[\"B\"] += 1\n",
    "    else:\n",
    "        res[\"D\"] += 1\n",
    "\n",
    "if res[\"A\"] > res[\"B\"]:\n",
    "    print(\"A\")\n",
    "elif res[\"A\"] < res[\"B\"]:\n",
    "    print(\"B\")\n",
    "else:\n",
    "    print(\"D\")"
   ]
  }
 ],
 "metadata": {
  "kernelspec": {
   "display_name": "Python 3",
   "language": "python",
   "name": "python3"
  },
  "language_info": {
   "codemirror_mode": {
    "name": "ipython",
    "version": 3
   },
   "file_extension": ".py",
   "mimetype": "text/x-python",
   "name": "python",
   "nbconvert_exporter": "python",
   "pygments_lexer": "ipython3",
   "version": "3.10.12"
  }
 },
 "nbformat": 4,
 "nbformat_minor": 2
}
