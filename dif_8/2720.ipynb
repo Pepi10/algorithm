{
 "cells": [
  {
   "cell_type": "code",
   "execution_count": null,
   "metadata": {},
   "outputs": [],
   "source": [
    "roof = int(input())\n",
    "\n",
    "for _ in range(roof):\n",
    "    change = int(input())"
   ]
  },
  {
   "cell_type": "code",
   "execution_count": 1,
   "metadata": {},
   "outputs": [],
   "source": [
    "q, d, n, p = [0, 0, 0, 0]"
   ]
  },
  {
   "cell_type": "code",
   "execution_count": 9,
   "metadata": {},
   "outputs": [
    {
     "name": "stdout",
     "output_type": "stream",
     "text": [
      "7 1 1 4\n"
     ]
    }
   ],
   "source": [
    "change = 194\n",
    "\n",
    "q = change // 25 \n",
    "change = change % 25\n",
    "\n",
    "d = change  // 10\n",
    "change = change % 10\n",
    "\n",
    "n = change // 5\n",
    "change = change % 5\n",
    "\n",
    "p = change // 1\n",
    "\n",
    "print(*[q, d, n, p])"
   ]
  },
  {
   "cell_type": "code",
   "execution_count": 10,
   "metadata": {},
   "outputs": [
    {
     "name": "stdout",
     "output_type": "stream",
     "text": [
      "4 2 0 4\n",
      "1 0 0 0\n",
      "7 1 1 4\n"
     ]
    }
   ],
   "source": [
    "roof = int(input())\n",
    "\n",
    "for _ in range(roof):\n",
    "    change = int(input())\n",
    "\n",
    "    q = change // 25 \n",
    "    change = change % 25\n",
    "\n",
    "    d = change  // 10\n",
    "    change = change % 10\n",
    "\n",
    "    n = change // 5\n",
    "    change = change % 5\n",
    "\n",
    "    p = change // 1\n",
    "\n",
    "    print(*[q, d, n, p])"
   ]
  }
 ],
 "metadata": {
  "kernelspec": {
   "display_name": "base",
   "language": "python",
   "name": "python3"
  },
  "language_info": {
   "codemirror_mode": {
    "name": "ipython",
    "version": 3
   },
   "file_extension": ".py",
   "mimetype": "text/x-python",
   "name": "python",
   "nbconvert_exporter": "python",
   "pygments_lexer": "ipython3",
   "version": "3.11.7"
  }
 },
 "nbformat": 4,
 "nbformat_minor": 2
}
